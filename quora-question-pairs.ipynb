{
 "cells": [
  {
   "cell_type": "code",
   "execution_count": 1,
   "id": "8d84c852",
   "metadata": {
    "execution": {
     "iopub.execute_input": "2025-07-03T08:56:19.130712Z",
     "iopub.status.busy": "2025-07-03T08:56:19.130307Z",
     "iopub.status.idle": "2025-07-03T08:56:23.340879Z",
     "shell.execute_reply": "2025-07-03T08:56:23.339799Z"
    },
    "papermill": {
     "duration": 4.222761,
     "end_time": "2025-07-03T08:56:23.342766",
     "exception": false,
     "start_time": "2025-07-03T08:56:19.120005",
     "status": "completed"
    },
    "tags": []
   },
   "outputs": [],
   "source": [
    "import numpy as np\n",
    "import pandas as pd\n",
    "import matplotlib.pyplot as plt\n",
    "import seaborn as sns\n",
    "from tqdm import tqdm\n",
    "import os\n",
    "import zipfile"
   ]
  },
  {
   "cell_type": "code",
   "execution_count": 2,
   "id": "8cdec183",
   "metadata": {
    "execution": {
     "iopub.execute_input": "2025-07-03T08:56:23.359027Z",
     "iopub.status.busy": "2025-07-03T08:56:23.358603Z",
     "iopub.status.idle": "2025-07-03T08:56:47.077702Z",
     "shell.execute_reply": "2025-07-03T08:56:47.076103Z"
    },
    "papermill": {
     "duration": 23.729246,
     "end_time": "2025-07-03T08:56:47.079840",
     "exception": false,
     "start_time": "2025-07-03T08:56:23.350594",
     "status": "completed"
    },
    "tags": []
   },
   "outputs": [],
   "source": [
    "import gensim\n",
    "from gensim.models import Word2Vec,KeyedVectors\n",
    "from nltk import sent_tokenize\n",
    "from gensim.utils import simple_preprocess"
   ]
  },
  {
   "cell_type": "code",
   "execution_count": 3,
   "id": "c8aca9b0",
   "metadata": {
    "execution": {
     "iopub.execute_input": "2025-07-03T08:56:47.097016Z",
     "iopub.status.busy": "2025-07-03T08:56:47.096466Z",
     "iopub.status.idle": "2025-07-03T08:56:53.292303Z",
     "shell.execute_reply": "2025-07-03T08:56:53.291331Z"
    },
    "papermill": {
     "duration": 6.2063,
     "end_time": "2025-07-03T08:56:53.293818",
     "exception": false,
     "start_time": "2025-07-03T08:56:47.087518",
     "status": "completed"
    },
    "tags": []
   },
   "outputs": [
    {
     "name": "stdout",
     "output_type": "stream",
     "text": [
      "Unzipped files.\n"
     ]
    }
   ],
   "source": [
    "zip_files = ['/kaggle/input/quora-question-pairs/train.csv.zip', \n",
    "             '/kaggle/input/quora-question-pairs/test.csv.zip', \n",
    "             '/kaggle/input/quora-question-pairs/sample_submission.csv.zip']\n",
    "\n",
    "working_dir = '/kaggle/working/'\n",
    "\n",
    "for zip_file in zip_files:\n",
    "    with zipfile.ZipFile(zip_file, 'r') as zip_ref:\n",
    "        zip_ref.extractall(working_dir)\n",
    "\n",
    "print(\"Unzipped files.\")"
   ]
  },
  {
   "cell_type": "code",
   "execution_count": 4,
   "id": "e1f6b555",
   "metadata": {
    "execution": {
     "iopub.execute_input": "2025-07-03T08:56:53.310896Z",
     "iopub.status.busy": "2025-07-03T08:56:53.310571Z",
     "iopub.status.idle": "2025-07-03T08:57:06.092182Z",
     "shell.execute_reply": "2025-07-03T08:57:06.091106Z"
    },
    "papermill": {
     "duration": 12.792075,
     "end_time": "2025-07-03T08:57:06.094134",
     "exception": false,
     "start_time": "2025-07-03T08:56:53.302059",
     "status": "completed"
    },
    "tags": []
   },
   "outputs": [
    {
     "name": "stderr",
     "output_type": "stream",
     "text": [
      "/tmp/ipykernel_13/2114699013.py:2: DtypeWarning: Columns (0) have mixed types. Specify dtype option on import or set low_memory=False.\n",
      "  test_df = pd.read_csv(\"/kaggle/working/test.csv\")\n"
     ]
    }
   ],
   "source": [
    "train_df = pd.read_csv(\"/kaggle/working/train.csv\")\n",
    "test_df = pd.read_csv(\"/kaggle/working/test.csv\")"
   ]
  },
  {
   "cell_type": "code",
   "execution_count": 5,
   "id": "85545d53",
   "metadata": {
    "execution": {
     "iopub.execute_input": "2025-07-03T08:57:06.111865Z",
     "iopub.status.busy": "2025-07-03T08:57:06.111168Z",
     "iopub.status.idle": "2025-07-03T08:57:06.140920Z",
     "shell.execute_reply": "2025-07-03T08:57:06.139080Z"
    },
    "papermill": {
     "duration": 0.041253,
     "end_time": "2025-07-03T08:57:06.143028",
     "exception": false,
     "start_time": "2025-07-03T08:57:06.101775",
     "status": "completed"
    },
    "tags": []
   },
   "outputs": [
    {
     "data": {
      "text/html": [
       "<div>\n",
       "<style scoped>\n",
       "    .dataframe tbody tr th:only-of-type {\n",
       "        vertical-align: middle;\n",
       "    }\n",
       "\n",
       "    .dataframe tbody tr th {\n",
       "        vertical-align: top;\n",
       "    }\n",
       "\n",
       "    .dataframe thead th {\n",
       "        text-align: right;\n",
       "    }\n",
       "</style>\n",
       "<table border=\"1\" class=\"dataframe\">\n",
       "  <thead>\n",
       "    <tr style=\"text-align: right;\">\n",
       "      <th></th>\n",
       "      <th>id</th>\n",
       "      <th>qid1</th>\n",
       "      <th>qid2</th>\n",
       "      <th>question1</th>\n",
       "      <th>question2</th>\n",
       "      <th>is_duplicate</th>\n",
       "    </tr>\n",
       "  </thead>\n",
       "  <tbody>\n",
       "    <tr>\n",
       "      <th>0</th>\n",
       "      <td>0</td>\n",
       "      <td>1</td>\n",
       "      <td>2</td>\n",
       "      <td>What is the step by step guide to invest in sh...</td>\n",
       "      <td>What is the step by step guide to invest in sh...</td>\n",
       "      <td>0</td>\n",
       "    </tr>\n",
       "    <tr>\n",
       "      <th>1</th>\n",
       "      <td>1</td>\n",
       "      <td>3</td>\n",
       "      <td>4</td>\n",
       "      <td>What is the story of Kohinoor (Koh-i-Noor) Dia...</td>\n",
       "      <td>What would happen if the Indian government sto...</td>\n",
       "      <td>0</td>\n",
       "    </tr>\n",
       "    <tr>\n",
       "      <th>2</th>\n",
       "      <td>2</td>\n",
       "      <td>5</td>\n",
       "      <td>6</td>\n",
       "      <td>How can I increase the speed of my internet co...</td>\n",
       "      <td>How can Internet speed be increased by hacking...</td>\n",
       "      <td>0</td>\n",
       "    </tr>\n",
       "    <tr>\n",
       "      <th>3</th>\n",
       "      <td>3</td>\n",
       "      <td>7</td>\n",
       "      <td>8</td>\n",
       "      <td>Why am I mentally very lonely? How can I solve...</td>\n",
       "      <td>Find the remainder when [math]23^{24}[/math] i...</td>\n",
       "      <td>0</td>\n",
       "    </tr>\n",
       "    <tr>\n",
       "      <th>4</th>\n",
       "      <td>4</td>\n",
       "      <td>9</td>\n",
       "      <td>10</td>\n",
       "      <td>Which one dissolve in water quikly sugar, salt...</td>\n",
       "      <td>Which fish would survive in salt water?</td>\n",
       "      <td>0</td>\n",
       "    </tr>\n",
       "  </tbody>\n",
       "</table>\n",
       "</div>"
      ],
      "text/plain": [
       "   id  qid1  qid2                                          question1  \\\n",
       "0   0     1     2  What is the step by step guide to invest in sh...   \n",
       "1   1     3     4  What is the story of Kohinoor (Koh-i-Noor) Dia...   \n",
       "2   2     5     6  How can I increase the speed of my internet co...   \n",
       "3   3     7     8  Why am I mentally very lonely? How can I solve...   \n",
       "4   4     9    10  Which one dissolve in water quikly sugar, salt...   \n",
       "\n",
       "                                           question2  is_duplicate  \n",
       "0  What is the step by step guide to invest in sh...             0  \n",
       "1  What would happen if the Indian government sto...             0  \n",
       "2  How can Internet speed be increased by hacking...             0  \n",
       "3  Find the remainder when [math]23^{24}[/math] i...             0  \n",
       "4            Which fish would survive in salt water?             0  "
      ]
     },
     "execution_count": 5,
     "metadata": {},
     "output_type": "execute_result"
    }
   ],
   "source": [
    "train_df.head()"
   ]
  },
  {
   "cell_type": "code",
   "execution_count": 6,
   "id": "8f9f0649",
   "metadata": {
    "execution": {
     "iopub.execute_input": "2025-07-03T08:57:06.160933Z",
     "iopub.status.busy": "2025-07-03T08:57:06.160151Z",
     "iopub.status.idle": "2025-07-03T08:57:06.165465Z",
     "shell.execute_reply": "2025-07-03T08:57:06.164234Z"
    },
    "papermill": {
     "duration": 0.016004,
     "end_time": "2025-07-03T08:57:06.166940",
     "exception": false,
     "start_time": "2025-07-03T08:57:06.150936",
     "status": "completed"
    },
    "tags": []
   },
   "outputs": [
    {
     "name": "stdout",
     "output_type": "stream",
     "text": [
      "Train dataframe: (404290, 6)\n",
      "Test dataframe: (3563475, 3)\n"
     ]
    }
   ],
   "source": [
    "print(\"Train dataframe:\", train_df.shape)\n",
    "print(\"Test dataframe:\", test_df.shape)"
   ]
  },
  {
   "cell_type": "code",
   "execution_count": 7,
   "id": "15e40b93",
   "metadata": {
    "execution": {
     "iopub.execute_input": "2025-07-03T08:57:06.184806Z",
     "iopub.status.busy": "2025-07-03T08:57:06.184227Z",
     "iopub.status.idle": "2025-07-03T08:57:06.278955Z",
     "shell.execute_reply": "2025-07-03T08:57:06.277843Z"
    },
    "papermill": {
     "duration": 0.105385,
     "end_time": "2025-07-03T08:57:06.280438",
     "exception": false,
     "start_time": "2025-07-03T08:57:06.175053",
     "status": "completed"
    },
    "tags": []
   },
   "outputs": [
    {
     "name": "stdout",
     "output_type": "stream",
     "text": [
      "<class 'pandas.core.frame.DataFrame'>\n",
      "RangeIndex: 404290 entries, 0 to 404289\n",
      "Data columns (total 6 columns):\n",
      " #   Column        Non-Null Count   Dtype \n",
      "---  ------        --------------   ----- \n",
      " 0   id            404290 non-null  int64 \n",
      " 1   qid1          404290 non-null  int64 \n",
      " 2   qid2          404290 non-null  int64 \n",
      " 3   question1     404289 non-null  object\n",
      " 4   question2     404288 non-null  object\n",
      " 5   is_duplicate  404290 non-null  int64 \n",
      "dtypes: int64(4), object(2)\n",
      "memory usage: 18.5+ MB\n"
     ]
    }
   ],
   "source": [
    "train_df.info()"
   ]
  },
  {
   "cell_type": "code",
   "execution_count": 8,
   "id": "78d764fb",
   "metadata": {
    "execution": {
     "iopub.execute_input": "2025-07-03T08:57:06.296833Z",
     "iopub.status.busy": "2025-07-03T08:57:06.296496Z",
     "iopub.status.idle": "2025-07-03T08:57:06.461870Z",
     "shell.execute_reply": "2025-07-03T08:57:06.460736Z"
    },
    "papermill": {
     "duration": 0.17562,
     "end_time": "2025-07-03T08:57:06.463699",
     "exception": false,
     "start_time": "2025-07-03T08:57:06.288079",
     "status": "completed"
    },
    "tags": []
   },
   "outputs": [
    {
     "data": {
      "text/plain": [
       "id              0\n",
       "qid1            0\n",
       "qid2            0\n",
       "question1       0\n",
       "question2       0\n",
       "is_duplicate    0\n",
       "dtype: int64"
      ]
     },
     "execution_count": 8,
     "metadata": {},
     "output_type": "execute_result"
    }
   ],
   "source": [
    "# drop missing values\n",
    "train_df = train_df.dropna()\n",
    "train_df.isnull().sum()"
   ]
  },
  {
   "cell_type": "code",
   "execution_count": 9,
   "id": "f6a2f800",
   "metadata": {
    "execution": {
     "iopub.execute_input": "2025-07-03T08:57:06.480860Z",
     "iopub.status.busy": "2025-07-03T08:57:06.480541Z",
     "iopub.status.idle": "2025-07-03T08:57:06.885540Z",
     "shell.execute_reply": "2025-07-03T08:57:06.884438Z"
    },
    "papermill": {
     "duration": 0.415374,
     "end_time": "2025-07-03T08:57:06.886976",
     "exception": false,
     "start_time": "2025-07-03T08:57:06.471602",
     "status": "completed"
    },
    "tags": []
   },
   "outputs": [
    {
     "data": {
      "text/plain": [
       "0"
      ]
     },
     "execution_count": 9,
     "metadata": {},
     "output_type": "execute_result"
    }
   ],
   "source": [
    "# duplicate rows\n",
    "train_df.duplicated().sum()"
   ]
  },
  {
   "cell_type": "code",
   "execution_count": 10,
   "id": "06417cca",
   "metadata": {
    "execution": {
     "iopub.execute_input": "2025-07-03T08:57:06.904360Z",
     "iopub.status.busy": "2025-07-03T08:57:06.903963Z",
     "iopub.status.idle": "2025-07-03T08:57:07.203380Z",
     "shell.execute_reply": "2025-07-03T08:57:07.202357Z"
    },
    "papermill": {
     "duration": 0.309668,
     "end_time": "2025-07-03T08:57:07.204939",
     "exception": false,
     "start_time": "2025-07-03T08:57:06.895271",
     "status": "completed"
    },
    "tags": []
   },
   "outputs": [
    {
     "name": "stdout",
     "output_type": "stream",
     "text": [
      "is_duplicate\n",
      "0    255024\n",
      "1    149263\n",
      "Name: count, dtype: int64\n",
      "is_duplicate\n",
      "0    63.079941\n",
      "1    36.920059\n",
      "Name: count, dtype: float64\n"
     ]
    },
    {
     "data": {
      "text/plain": [
       "<Axes: xlabel='is_duplicate'>"
      ]
     },
     "execution_count": 10,
     "metadata": {},
     "output_type": "execute_result"
    },
    {
     "data": {
      "image/png": "[encoded data removed]",
      "text/plain": [
       "<Figure size 640x480 with 1 Axes>"
      ]
     },
     "metadata": {},
     "output_type": "display_data"
    }
   ],
   "source": [
    "# Distribution of duplicate vs non-duplicate pairs\n",
    "\n",
    "print(train_df['is_duplicate'].value_counts())\n",
    "print((train_df['is_duplicate'].value_counts()/train_df['is_duplicate'].count())*100)\n",
    "train_df['is_duplicate'].value_counts().plot(kind='bar')"
   ]
  },
  {
   "cell_type": "code",
   "execution_count": 11,
   "id": "1025bdeb",
   "metadata": {
    "execution": {
     "iopub.execute_input": "2025-07-03T08:57:07.222461Z",
     "iopub.status.busy": "2025-07-03T08:57:07.222098Z",
     "iopub.status.idle": "2025-07-03T08:57:07.624381Z",
     "shell.execute_reply": "2025-07-03T08:57:07.623382Z"
    },
    "papermill": {
     "duration": 0.412987,
     "end_time": "2025-07-03T08:57:07.626145",
     "exception": false,
     "start_time": "2025-07-03T08:57:07.213158",
     "status": "completed"
    },
    "tags": []
   },
   "outputs": [
    {
     "name": "stdout",
     "output_type": "stream",
     "text": [
      "Number of unique questions 537929\n",
      "Number of questions getting repeated 111778\n"
     ]
    }
   ],
   "source": [
    "# Repeated questions\n",
    "\n",
    "qid = pd.Series(train_df['qid1'].tolist() + train_df['qid2'].tolist())\n",
    "print('Number of unique questions',np.unique(qid).shape[0])\n",
    "x = qid.value_counts()>1\n",
    "print('Number of questions getting repeated',x[x].shape[0])"
   ]
  },
  {
   "cell_type": "code",
   "execution_count": 12,
   "id": "aeb7ba8e",
   "metadata": {
    "execution": {
     "iopub.execute_input": "2025-07-03T08:57:07.643890Z",
     "iopub.status.busy": "2025-07-03T08:57:07.643530Z",
     "iopub.status.idle": "2025-07-03T08:57:08.838223Z",
     "shell.execute_reply": "2025-07-03T08:57:08.836981Z"
    },
    "papermill": {
     "duration": 1.205804,
     "end_time": "2025-07-03T08:57:08.840265",
     "exception": false,
     "start_time": "2025-07-03T08:57:07.634461",
     "status": "completed"
    },
    "tags": []
   },
   "outputs": [
    {
     "data": {
      "image/png": "[encoded data removed]",
      "text/plain": [
       "<Figure size 640x480 with 1 Axes>"
      ]
     },
     "metadata": {},
     "output_type": "display_data"
    }
   ],
   "source": [
    "# Log histogram of repeated questions\n",
    "\n",
    "plt.hist(qid.value_counts().values,bins=160, color='r')\n",
    "plt.yscale('log')\n",
    "plt.show()"
   ]
  },
  {
   "cell_type": "code",
   "execution_count": 13,
   "id": "860ab935",
   "metadata": {
    "execution": {
     "iopub.execute_input": "2025-07-03T08:57:08.861247Z",
     "iopub.status.busy": "2025-07-03T08:57:08.860906Z",
     "iopub.status.idle": "2025-07-03T08:57:23.054319Z",
     "shell.execute_reply": "2025-07-03T08:57:23.053086Z"
    },
    "papermill": {
     "duration": 14.206202,
     "end_time": "2025-07-03T08:57:23.056267",
     "exception": false,
     "start_time": "2025-07-03T08:57:08.850065",
     "status": "completed"
    },
    "tags": []
   },
   "outputs": [
    {
     "name": "stderr",
     "output_type": "stream",
     "text": [
      "100%|██████████| 808574/808574 [00:14<00:00, 57207.39it/s]\n"
     ]
    }
   ],
   "source": [
    "# Creating corpus\n",
    "\n",
    "corpus = train_df['question1'].tolist() + train_df['question2'].tolist()\n",
    "\n",
    "story = []\n",
    "for sent in tqdm(corpus):\n",
    "    story.append(simple_preprocess(sent))"
   ]
  },
  {
   "cell_type": "markdown",
   "id": "41f37dba",
   "metadata": {
    "papermill": {
     "duration": 0.016028,
     "end_time": "2025-07-03T08:57:23.089867",
     "exception": false,
     "start_time": "2025-07-03T08:57:23.073839",
     "status": "completed"
    },
    "tags": []
   },
   "source": [
    "## Data Cleaning"
   ]
  },
  {
   "cell_type": "code",
   "execution_count": 14,
   "id": "db9b0144",
   "metadata": {
    "execution": {
     "iopub.execute_input": "2025-07-03T08:57:23.123364Z",
     "iopub.status.busy": "2025-07-03T08:57:23.123003Z",
     "iopub.status.idle": "2025-07-03T08:57:23.198090Z",
     "shell.execute_reply": "2025-07-03T08:57:23.196673Z"
    },
    "papermill": {
     "duration": 0.095413,
     "end_time": "2025-07-03T08:57:23.199777",
     "exception": false,
     "start_time": "2025-07-03T08:57:23.104364",
     "status": "completed"
    },
    "tags": []
   },
   "outputs": [
    {
     "name": "stderr",
     "output_type": "stream",
     "text": [
      "[nltk_data] Downloading package stopwords to /usr/share/nltk_data...\n",
      "[nltk_data]   Package stopwords is already up-to-date!\n"
     ]
    },
    {
     "data": {
      "text/plain": [
       "True"
      ]
     },
     "execution_count": 14,
     "metadata": {},
     "output_type": "execute_result"
    }
   ],
   "source": [
    "import nltk\n",
    "from nltk.stem import PorterStemmer\n",
    "from nltk.corpus import stopwords\n",
    "nltk.download(\"stopwords\")"
   ]
  },
  {
   "cell_type": "code",
   "execution_count": 15,
   "id": "a69c7e3f",
   "metadata": {
    "execution": {
     "iopub.execute_input": "2025-07-03T08:57:23.234390Z",
     "iopub.status.busy": "2025-07-03T08:57:23.234066Z",
     "iopub.status.idle": "2025-07-03T09:12:34.821928Z",
     "shell.execute_reply": "2025-07-03T09:12:34.820905Z"
    },
    "papermill": {
     "duration": 911.606566,
     "end_time": "2025-07-03T09:12:34.824385",
     "exception": false,
     "start_time": "2025-07-03T08:57:23.217819",
     "status": "completed"
    },
    "tags": []
   },
   "outputs": [
    {
     "name": "stderr",
     "output_type": "stream",
     "text": [
      "100%|██████████| 808574/808574 [15:11<00:00, 887.01it/s]\n"
     ]
    }
   ],
   "source": [
    "stemmer = PorterStemmer()\n",
    "def process_word_list(word_list):\n",
    "    meaningful_words = [\n",
    "        stemmer.stem(word)  # Applying stemming\n",
    "        for word in word_list\n",
    "        if word.lower() not in stopwords.words(\"english\")  # Removing stopwords\n",
    "    ]\n",
    "    return meaningful_words\n",
    "\n",
    "cleaned_story = [process_word_list(sublist) for sublist in tqdm(story)]"
   ]
  },
  {
   "cell_type": "code",
   "execution_count": 16,
   "id": "0e372bcc",
   "metadata": {
    "execution": {
     "iopub.execute_input": "2025-07-03T09:12:35.801670Z",
     "iopub.status.busy": "2025-07-03T09:12:35.801317Z",
     "iopub.status.idle": "2025-07-03T09:13:05.758967Z",
     "shell.execute_reply": "2025-07-03T09:13:05.757860Z"
    },
    "papermill": {
     "duration": 30.449715,
     "end_time": "2025-07-03T09:13:05.761841",
     "exception": false,
     "start_time": "2025-07-03T09:12:35.312126",
     "status": "completed"
    },
    "tags": []
   },
   "outputs": [
    {
     "data": {
      "text/plain": [
       "(20497527, 21715385)"
      ]
     },
     "execution_count": 16,
     "metadata": {},
     "output_type": "execute_result"
    }
   ],
   "source": [
    "word2vec_model = gensim.models.Word2Vec(window = 5, min_count = 2, vector_size=30)\n",
    "word2vec_model.build_vocab(cleaned_story)\n",
    "word2vec_model.train(cleaned_story, \n",
    "            total_examples = word2vec_model.corpus_count, \n",
    "            epochs = word2vec_model.epochs)"
   ]
  },
  {
   "cell_type": "code",
   "execution_count": 17,
   "id": "62cd0f0c",
   "metadata": {
    "execution": {
     "iopub.execute_input": "2025-07-03T09:13:06.827712Z",
     "iopub.status.busy": "2025-07-03T09:13:06.827393Z",
     "iopub.status.idle": "2025-07-03T09:13:07.055073Z",
     "shell.execute_reply": "2025-07-03T09:13:07.053727Z"
    },
    "papermill": {
     "duration": 0.677662,
     "end_time": "2025-07-03T09:13:07.057367",
     "exception": false,
     "start_time": "2025-07-03T09:13:06.379705",
     "status": "completed"
    },
    "tags": []
   },
   "outputs": [],
   "source": [
    "train_df[\"Ques1_Cleaned\"] = cleaned_story[:len(train_df)]\n",
    "train_df[\"Ques2_Cleaned\"] = cleaned_story[len(train_df):]"
   ]
  },
  {
   "cell_type": "code",
   "execution_count": 18,
   "id": "2fe1c5dc",
   "metadata": {
    "execution": {
     "iopub.execute_input": "2025-07-03T09:13:08.064002Z",
     "iopub.status.busy": "2025-07-03T09:13:08.063243Z",
     "iopub.status.idle": "2025-07-03T09:13:08.230649Z",
     "shell.execute_reply": "2025-07-03T09:13:08.229725Z"
    },
    "papermill": {
     "duration": 0.710155,
     "end_time": "2025-07-03T09:13:08.232549",
     "exception": false,
     "start_time": "2025-07-03T09:13:07.522394",
     "status": "completed"
    },
    "tags": []
   },
   "outputs": [],
   "source": [
    "sample_data = train_df.copy() \n",
    "sample_data.reset_index(inplace = True, drop = True)"
   ]
  },
  {
   "cell_type": "markdown",
   "id": "bf9c1099",
   "metadata": {
    "papermill": {
     "duration": 0.449451,
     "end_time": "2025-07-03T09:13:09.123522",
     "exception": false,
     "start_time": "2025-07-03T09:13:08.674071",
     "status": "completed"
    },
    "tags": []
   },
   "source": [
    "## Custom Features"
   ]
  },
  {
   "cell_type": "code",
   "execution_count": 19,
   "id": "73681194",
   "metadata": {
    "execution": {
     "iopub.execute_input": "2025-07-03T09:13:10.095431Z",
     "iopub.status.busy": "2025-07-03T09:13:10.095096Z",
     "iopub.status.idle": "2025-07-03T09:13:10.199649Z",
     "shell.execute_reply": "2025-07-03T09:13:10.198105Z"
    },
    "papermill": {
     "duration": 0.547696,
     "end_time": "2025-07-03T09:13:10.201690",
     "exception": false,
     "start_time": "2025-07-03T09:13:09.653994",
     "status": "completed"
    },
    "tags": []
   },
   "outputs": [],
   "source": [
    "from textblob import TextBlob\n",
    "\n",
    "def text_analysis(word_list):\n",
    "    # Join the list of words into a text string\n",
    "    text = \" \".join(word_list)\n",
    "\n",
    "    # Create a TextBlob object\n",
    "    blob = TextBlob(text)\n",
    "\n",
    "    # Sentiment Analysis\n",
    "    polarity_score = blob.sentiment.polarity\n",
    "    subjectivity_score = blob.sentiment.subjectivity\n",
    "\n",
    "    # Word Metrics\n",
    "    word_count = len(word_list)\n",
    "    average_word_length = sum(len(word) for word in word_list) / word_count\n",
    "\n",
    "    # Sentence Metrics\n",
    "    sentence_count = len(blob.sentences)\n",
    "    average_sentence_length = word_count / sentence_count\n",
    "\n",
    "    # FOG Index\n",
    "    complex_word_count = len([word for word in word_list if len(word) > 3])\n",
    "    fog_index = 0.4 * (average_sentence_length + complex_word_count / word_count)\n",
    "    \n",
    "    return np.array([average_word_length, word_count, average_sentence_length, fog_index, complex_word_count])"
   ]
  },
  {
   "cell_type": "code",
   "execution_count": 20,
   "id": "59f7dbe8",
   "metadata": {
    "execution": {
     "iopub.execute_input": "2025-07-03T09:13:11.163931Z",
     "iopub.status.busy": "2025-07-03T09:13:11.163626Z",
     "iopub.status.idle": "2025-07-03T09:23:03.555837Z",
     "shell.execute_reply": "2025-07-03T09:23:03.554800Z"
    },
    "papermill": {
     "duration": 592.911156,
     "end_time": "2025-07-03T09:23:03.557210",
     "exception": false,
     "start_time": "2025-07-03T09:13:10.646054",
     "status": "completed"
    },
    "tags": []
   },
   "outputs": [
    {
     "name": "stderr",
     "output_type": "stream",
     "text": [
      "100%|██████████| 404287/404287 [09:52<00:00, 682.48it/s]\n"
     ]
    }
   ],
   "source": [
    "# Converting text columns into vectors\n",
    "\n",
    "vec1 = np.zeros((len(sample_data), 30))\n",
    "vec2 = np.zeros((len(sample_data), 30))\n",
    "other_features = np.zeros((len(sample_data), 10))\n",
    "\n",
    "for i in tqdm(range(len(sample_data))):\n",
    "    \n",
    "    text1 = sample_data[\"Ques1_Cleaned\"][i]\n",
    "    text2 = sample_data[\"Ques2_Cleaned\"][i]\n",
    "    \n",
    "    if len(text1) != 0:\n",
    "        vec1[i] = (sum([word2vec_model.wv[word] for word in text1 if word in word2vec_model.wv.index_to_key]) / len(text1))\n",
    "        blob1 = text_analysis(text1)\n",
    "    else:\n",
    "        vec1[i] = np.zeros((30,))\n",
    "        blob1 = np.zeros((5,))\n",
    "    if len(text2) != 0:\n",
    "        vec2[i] = (sum([word2vec_model.wv[word] for word in text2 if word in word2vec_model.wv.index_to_key]) / len(text2))\n",
    "        blob2 = text_analysis(text2)\n",
    "    else:\n",
    "        vec2i = np.zeros((30,))\n",
    "        blob2 = np.zeros((5,))\n",
    "    other_features[i] = np.concatenate([blob1, blob2])"
   ]
  },
  {
   "cell_type": "code",
   "execution_count": 21,
   "id": "a91d54e7",
   "metadata": {
    "execution": {
     "iopub.execute_input": "2025-07-03T09:23:05.156130Z",
     "iopub.status.busy": "2025-07-03T09:23:05.155812Z",
     "iopub.status.idle": "2025-07-03T09:23:05.780761Z",
     "shell.execute_reply": "2025-07-03T09:23:05.779618Z"
    },
    "papermill": {
     "duration": 1.503209,
     "end_time": "2025-07-03T09:23:05.782417",
     "exception": false,
     "start_time": "2025-07-03T09:23:04.279208",
     "status": "completed"
    },
    "tags": []
   },
   "outputs": [
    {
     "data": {
      "text/html": [
       "<div>\n",
       "<style scoped>\n",
       "    .dataframe tbody tr th:only-of-type {\n",
       "        vertical-align: middle;\n",
       "    }\n",
       "\n",
       "    .dataframe tbody tr th {\n",
       "        vertical-align: top;\n",
       "    }\n",
       "\n",
       "    .dataframe thead th {\n",
       "        text-align: right;\n",
       "    }\n",
       "</style>\n",
       "<table border=\"1\" class=\"dataframe\">\n",
       "  <thead>\n",
       "    <tr style=\"text-align: right;\">\n",
       "      <th></th>\n",
       "      <th>id</th>\n",
       "      <th>qid1</th>\n",
       "      <th>qid2</th>\n",
       "      <th>question1</th>\n",
       "      <th>question2</th>\n",
       "      <th>is_duplicate</th>\n",
       "      <th>Ques1_Cleaned</th>\n",
       "      <th>Ques2_Cleaned</th>\n",
       "      <th>0</th>\n",
       "      <th>1</th>\n",
       "      <th>...</th>\n",
       "      <th>60</th>\n",
       "      <th>61</th>\n",
       "      <th>62</th>\n",
       "      <th>63</th>\n",
       "      <th>64</th>\n",
       "      <th>65</th>\n",
       "      <th>66</th>\n",
       "      <th>67</th>\n",
       "      <th>68</th>\n",
       "      <th>69</th>\n",
       "    </tr>\n",
       "  </thead>\n",
       "  <tbody>\n",
       "    <tr>\n",
       "      <th>0</th>\n",
       "      <td>0</td>\n",
       "      <td>1</td>\n",
       "      <td>2</td>\n",
       "      <td>What is the step by step guide to invest in sh...</td>\n",
       "      <td>What is the step by step guide to invest in sh...</td>\n",
       "      <td>0</td>\n",
       "      <td>[step, step, guid, invest, share, market, india]</td>\n",
       "      <td>[step, step, guid, invest, share, market]</td>\n",
       "      <td>-1.179470</td>\n",
       "      <td>-0.564270</td>\n",
       "      <td>...</td>\n",
       "      <td>4.857143</td>\n",
       "      <td>7.0</td>\n",
       "      <td>7.0</td>\n",
       "      <td>3.200000</td>\n",
       "      <td>7.0</td>\n",
       "      <td>4.833333</td>\n",
       "      <td>6.0</td>\n",
       "      <td>6.0</td>\n",
       "      <td>2.80</td>\n",
       "      <td>6.0</td>\n",
       "    </tr>\n",
       "    <tr>\n",
       "      <th>1</th>\n",
       "      <td>1</td>\n",
       "      <td>3</td>\n",
       "      <td>4</td>\n",
       "      <td>What is the story of Kohinoor (Koh-i-Noor) Dia...</td>\n",
       "      <td>What would happen if the Indian government sto...</td>\n",
       "      <td>0</td>\n",
       "      <td>[stori, kohinoor, koh, noor, diamond]</td>\n",
       "      <td>[would, happen, indian, govern, stole, kohinoo...</td>\n",
       "      <td>-0.112161</td>\n",
       "      <td>-0.622921</td>\n",
       "      <td>...</td>\n",
       "      <td>5.400000</td>\n",
       "      <td>5.0</td>\n",
       "      <td>5.0</td>\n",
       "      <td>2.320000</td>\n",
       "      <td>4.0</td>\n",
       "      <td>5.400000</td>\n",
       "      <td>10.0</td>\n",
       "      <td>10.0</td>\n",
       "      <td>4.36</td>\n",
       "      <td>9.0</td>\n",
       "    </tr>\n",
       "    <tr>\n",
       "      <th>2</th>\n",
       "      <td>2</td>\n",
       "      <td>5</td>\n",
       "      <td>6</td>\n",
       "      <td>How can I increase the speed of my internet co...</td>\n",
       "      <td>How can Internet speed be increased by hacking...</td>\n",
       "      <td>0</td>\n",
       "      <td>[increas, speed, internet, connect, use, vpn]</td>\n",
       "      <td>[internet, speed, increas, hack, dn]</td>\n",
       "      <td>0.127389</td>\n",
       "      <td>-0.911445</td>\n",
       "      <td>...</td>\n",
       "      <td>5.500000</td>\n",
       "      <td>6.0</td>\n",
       "      <td>6.0</td>\n",
       "      <td>2.666667</td>\n",
       "      <td>4.0</td>\n",
       "      <td>5.200000</td>\n",
       "      <td>5.0</td>\n",
       "      <td>5.0</td>\n",
       "      <td>2.32</td>\n",
       "      <td>4.0</td>\n",
       "    </tr>\n",
       "    <tr>\n",
       "      <th>3</th>\n",
       "      <td>3</td>\n",
       "      <td>7</td>\n",
       "      <td>8</td>\n",
       "      <td>Why am I mentally very lonely? How can I solve...</td>\n",
       "      <td>Find the remainder when [math]23^{24}[/math] i...</td>\n",
       "      <td>0</td>\n",
       "      <td>[mental, lone, solv]</td>\n",
       "      <td>[find, remaind, math, math, divid]</td>\n",
       "      <td>0.725096</td>\n",
       "      <td>-1.650460</td>\n",
       "      <td>...</td>\n",
       "      <td>4.666667</td>\n",
       "      <td>3.0</td>\n",
       "      <td>3.0</td>\n",
       "      <td>1.600000</td>\n",
       "      <td>3.0</td>\n",
       "      <td>4.800000</td>\n",
       "      <td>5.0</td>\n",
       "      <td>5.0</td>\n",
       "      <td>2.40</td>\n",
       "      <td>5.0</td>\n",
       "    </tr>\n",
       "    <tr>\n",
       "      <th>4</th>\n",
       "      <td>4</td>\n",
       "      <td>9</td>\n",
       "      <td>10</td>\n",
       "      <td>Which one dissolve in water quikly sugar, salt...</td>\n",
       "      <td>Which fish would survive in salt water?</td>\n",
       "      <td>0</td>\n",
       "      <td>[one, dissolv, water, quikli, sugar, salt, met...</td>\n",
       "      <td>[fish, would, surviv, salt, water]</td>\n",
       "      <td>0.161500</td>\n",
       "      <td>-0.377102</td>\n",
       "      <td>...</td>\n",
       "      <td>4.800000</td>\n",
       "      <td>10.0</td>\n",
       "      <td>10.0</td>\n",
       "      <td>4.320000</td>\n",
       "      <td>8.0</td>\n",
       "      <td>4.800000</td>\n",
       "      <td>5.0</td>\n",
       "      <td>5.0</td>\n",
       "      <td>2.40</td>\n",
       "      <td>5.0</td>\n",
       "    </tr>\n",
       "  </tbody>\n",
       "</table>\n",
       "<p>5 rows × 78 columns</p>\n",
       "</div>"
      ],
      "text/plain": [
       "   id  qid1  qid2                                          question1  \\\n",
       "0   0     1     2  What is the step by step guide to invest in sh...   \n",
       "1   1     3     4  What is the story of Kohinoor (Koh-i-Noor) Dia...   \n",
       "2   2     5     6  How can I increase the speed of my internet co...   \n",
       "3   3     7     8  Why am I mentally very lonely? How can I solve...   \n",
       "4   4     9    10  Which one dissolve in water quikly sugar, salt...   \n",
       "\n",
       "                                           question2  is_duplicate  \\\n",
       "0  What is the step by step guide to invest in sh...             0   \n",
       "1  What would happen if the Indian government sto...             0   \n",
       "2  How can Internet speed be increased by hacking...             0   \n",
       "3  Find the remainder when [math]23^{24}[/math] i...             0   \n",
       "4            Which fish would survive in salt water?             0   \n",
       "\n",
       "                                       Ques1_Cleaned  \\\n",
       "0   [step, step, guid, invest, share, market, india]   \n",
       "1              [stori, kohinoor, koh, noor, diamond]   \n",
       "2      [increas, speed, internet, connect, use, vpn]   \n",
       "3                               [mental, lone, solv]   \n",
       "4  [one, dissolv, water, quikli, sugar, salt, met...   \n",
       "\n",
       "                                       Ques2_Cleaned         0         1  ...  \\\n",
       "0          [step, step, guid, invest, share, market] -1.179470 -0.564270  ...   \n",
       "1  [would, happen, indian, govern, stole, kohinoo... -0.112161 -0.622921  ...   \n",
       "2               [internet, speed, increas, hack, dn]  0.127389 -0.911445  ...   \n",
       "3                 [find, remaind, math, math, divid]  0.725096 -1.650460  ...   \n",
       "4                 [fish, would, surviv, salt, water]  0.161500 -0.377102  ...   \n",
       "\n",
       "         60    61    62        63   64        65    66    67    68   69  \n",
       "0  4.857143   7.0   7.0  3.200000  7.0  4.833333   6.0   6.0  2.80  6.0  \n",
       "1  5.400000   5.0   5.0  2.320000  4.0  5.400000  10.0  10.0  4.36  9.0  \n",
       "2  5.500000   6.0   6.0  2.666667  4.0  5.200000   5.0   5.0  2.32  4.0  \n",
       "3  4.666667   3.0   3.0  1.600000  3.0  4.800000   5.0   5.0  2.40  5.0  \n",
       "4  4.800000  10.0  10.0  4.320000  8.0  4.800000   5.0   5.0  2.40  5.0  \n",
       "\n",
       "[5 rows x 78 columns]"
      ]
     },
     "execution_count": 21,
     "metadata": {},
     "output_type": "execute_result"
    }
   ],
   "source": [
    "sample_data = pd.concat([sample_data, \n",
    "                        pd.DataFrame(vec1, columns = np.arange(0, 30)),\n",
    "                        pd.DataFrame(vec2, columns = np.arange(30, 60)),\n",
    "                        pd.DataFrame(other_features, columns = np.arange(60, 70))], axis = 1)\n",
    "sample_data.head()"
   ]
  },
  {
   "cell_type": "code",
   "execution_count": 22,
   "id": "e0615f75",
   "metadata": {
    "execution": {
     "iopub.execute_input": "2025-07-03T09:23:07.444044Z",
     "iopub.status.busy": "2025-07-03T09:23:07.443723Z",
     "iopub.status.idle": "2025-07-03T09:23:13.175610Z",
     "shell.execute_reply": "2025-07-03T09:23:13.173954Z"
    },
    "papermill": {
     "duration": 6.553866,
     "end_time": "2025-07-03T09:23:13.177213",
     "exception": false,
     "start_time": "2025-07-03T09:23:06.623347",
     "status": "completed"
    },
    "tags": []
   },
   "outputs": [
    {
     "name": "stdout",
     "output_type": "stream",
     "text": [
      "Requirement already satisfied: scikit-learn==1.2.2 in /usr/local/lib/python3.11/dist-packages (1.2.2)\r\n",
      "Requirement already satisfied: numpy>=1.17.3 in /usr/local/lib/python3.11/dist-packages (from scikit-learn==1.2.2) (1.26.4)\r\n",
      "Requirement already satisfied: scipy>=1.3.2 in /usr/local/lib/python3.11/dist-packages (from scikit-learn==1.2.2) (1.15.2)\r\n",
      "Requirement already satisfied: joblib>=1.1.1 in /usr/local/lib/python3.11/dist-packages (from scikit-learn==1.2.2) (1.5.0)\r\n",
      "Requirement already satisfied: threadpoolctl>=2.0.0 in /usr/local/lib/python3.11/dist-packages (from scikit-learn==1.2.2) (3.6.0)\r\n",
      "Requirement already satisfied: mkl_fft in /usr/local/lib/python3.11/dist-packages (from numpy>=1.17.3->scikit-learn==1.2.2) (1.3.8)\r\n",
      "Requirement already satisfied: mkl_random in /usr/local/lib/python3.11/dist-packages (from numpy>=1.17.3->scikit-learn==1.2.2) (1.2.4)\r\n",
      "Requirement already satisfied: mkl_umath in /usr/local/lib/python3.11/dist-packages (from numpy>=1.17.3->scikit-learn==1.2.2) (0.1.1)\r\n",
      "Requirement already satisfied: mkl in /usr/local/lib/python3.11/dist-packages (from numpy>=1.17.3->scikit-learn==1.2.2) (2025.1.0)\r\n",
      "Requirement already satisfied: tbb4py in /usr/local/lib/python3.11/dist-packages (from numpy>=1.17.3->scikit-learn==1.2.2) (2022.1.0)\r\n",
      "Requirement already satisfied: mkl-service in /usr/local/lib/python3.11/dist-packages (from numpy>=1.17.3->scikit-learn==1.2.2) (2.4.1)\r\n",
      "Requirement already satisfied: intel-openmp<2026,>=2024 in /usr/local/lib/python3.11/dist-packages (from mkl->numpy>=1.17.3->scikit-learn==1.2.2) (2024.2.0)\r\n",
      "Requirement already satisfied: tbb==2022.* in /usr/local/lib/python3.11/dist-packages (from mkl->numpy>=1.17.3->scikit-learn==1.2.2) (2022.1.0)\r\n",
      "Requirement already satisfied: tcmlib==1.* in /usr/local/lib/python3.11/dist-packages (from tbb==2022.*->mkl->numpy>=1.17.3->scikit-learn==1.2.2) (1.3.0)\r\n",
      "Requirement already satisfied: intel-cmplr-lib-rt in /usr/local/lib/python3.11/dist-packages (from mkl_umath->numpy>=1.17.3->scikit-learn==1.2.2) (2024.2.0)\r\n",
      "Requirement already satisfied: intel-cmplr-lib-ur==2024.2.0 in /usr/local/lib/python3.11/dist-packages (from intel-openmp<2026,>=2024->mkl->numpy>=1.17.3->scikit-learn==1.2.2) (2024.2.0)\r\n",
      "Note: you may need to restart the kernel to use updated packages.\n"
     ]
    }
   ],
   "source": [
    "pip install scikit-learn==1.2.2"
   ]
  },
  {
   "cell_type": "code",
   "execution_count": 23,
   "id": "3d906347",
   "metadata": {
    "execution": {
     "iopub.execute_input": "2025-07-03T09:23:14.731617Z",
     "iopub.status.busy": "2025-07-03T09:23:14.730173Z",
     "iopub.status.idle": "2025-07-03T09:23:19.623819Z",
     "shell.execute_reply": "2025-07-03T09:23:19.622148Z"
    },
    "papermill": {
     "duration": 5.660923,
     "end_time": "2025-07-03T09:23:19.625976",
     "exception": false,
     "start_time": "2025-07-03T09:23:13.965053",
     "status": "completed"
    },
    "tags": []
   },
   "outputs": [
    {
     "name": "stdout",
     "output_type": "stream",
     "text": [
      "Collecting imbalanced-learn==0.12.2\r\n",
      "  Downloading imbalanced_learn-0.12.2-py3-none-any.whl.metadata (8.2 kB)\r\n",
      "Requirement already satisfied: numpy>=1.17.3 in /usr/local/lib/python3.11/dist-packages (from imbalanced-learn==0.12.2) (1.26.4)\r\n",
      "Requirement already satisfied: scipy>=1.5.0 in /usr/local/lib/python3.11/dist-packages (from imbalanced-learn==0.12.2) (1.15.2)\r\n",
      "Requirement already satisfied: scikit-learn>=1.0.2 in /usr/local/lib/python3.11/dist-packages (from imbalanced-learn==0.12.2) (1.2.2)\r\n",
      "Requirement already satisfied: joblib>=1.1.1 in /usr/local/lib/python3.11/dist-packages (from imbalanced-learn==0.12.2) (1.5.0)\r\n",
      "Requirement already satisfied: threadpoolctl>=2.0.0 in /usr/local/lib/python3.11/dist-packages (from imbalanced-learn==0.12.2) (3.6.0)\r\n",
      "Requirement already satisfied: mkl_fft in /usr/local/lib/python3.11/dist-packages (from numpy>=1.17.3->imbalanced-learn==0.12.2) (1.3.8)\r\n",
      "Requirement already satisfied: mkl_random in /usr/local/lib/python3.11/dist-packages (from numpy>=1.17.3->imbalanced-learn==0.12.2) (1.2.4)\r\n",
      "Requirement already satisfied: mkl_umath in /usr/local/lib/python3.11/dist-packages (from numpy>=1.17.3->imbalanced-learn==0.12.2) (0.1.1)\r\n",
      "Requirement already satisfied: mkl in /usr/local/lib/python3.11/dist-packages (from numpy>=1.17.3->imbalanced-learn==0.12.2) (2025.1.0)\r\n",
      "Requirement already satisfied: tbb4py in /usr/local/lib/python3.11/dist-packages (from numpy>=1.17.3->imbalanced-learn==0.12.2) (2022.1.0)\r\n",
      "Requirement already satisfied: mkl-service in /usr/local/lib/python3.11/dist-packages (from numpy>=1.17.3->imbalanced-learn==0.12.2) (2.4.1)\r\n",
      "Requirement already satisfied: intel-openmp<2026,>=2024 in /usr/local/lib/python3.11/dist-packages (from mkl->numpy>=1.17.3->imbalanced-learn==0.12.2) (2024.2.0)\r\n",
      "Requirement already satisfied: tbb==2022.* in /usr/local/lib/python3.11/dist-packages (from mkl->numpy>=1.17.3->imbalanced-learn==0.12.2) (2022.1.0)\r\n",
      "Requirement already satisfied: tcmlib==1.* in /usr/local/lib/python3.11/dist-packages (from tbb==2022.*->mkl->numpy>=1.17.3->imbalanced-learn==0.12.2) (1.3.0)\r\n",
      "Requirement already satisfied: intel-cmplr-lib-rt in /usr/local/lib/python3.11/dist-packages (from mkl_umath->numpy>=1.17.3->imbalanced-learn==0.12.2) (2024.2.0)\r\n",
      "Requirement already satisfied: intel-cmplr-lib-ur==2024.2.0 in /usr/local/lib/python3.11/dist-packages (from intel-openmp<2026,>=2024->mkl->numpy>=1.17.3->imbalanced-learn==0.12.2) (2024.2.0)\r\n",
      "Downloading imbalanced_learn-0.12.2-py3-none-any.whl (257 kB)\r\n",
      "\u001b[2K   \u001b[90m━━━━━━━━━━━━━━━━━━━━━━━━━━━━━━━━━━━━━━━━\u001b[0m \u001b[32m258.0/258.0 kB\u001b[0m \u001b[31m12.1 MB/s\u001b[0m eta \u001b[36m0:00:00\u001b[0m\r\n",
      "\u001b[?25hInstalling collected packages: imbalanced-learn\r\n",
      "  Attempting uninstall: imbalanced-learn\r\n",
      "    Found existing installation: imbalanced-learn 0.13.0\r\n",
      "    Uninstalling imbalanced-learn-0.13.0:\r\n",
      "      Successfully uninstalled imbalanced-learn-0.13.0\r\n",
      "Successfully installed imbalanced-learn-0.12.2\r\n",
      "Note: you may need to restart the kernel to use updated packages.\n"
     ]
    }
   ],
   "source": [
    "pip install imbalanced-learn==0.12.2"
   ]
  },
  {
   "cell_type": "code",
   "execution_count": 24,
   "id": "73f3798e",
   "metadata": {
    "execution": {
     "iopub.execute_input": "2025-07-03T09:23:21.124467Z",
     "iopub.status.busy": "2025-07-03T09:23:21.124092Z",
     "iopub.status.idle": "2025-07-03T09:24:42.081521Z",
     "shell.execute_reply": "2025-07-03T09:24:42.080368Z"
    },
    "papermill": {
     "duration": 82.473916,
     "end_time": "2025-07-03T09:24:42.890499",
     "exception": false,
     "start_time": "2025-07-03T09:23:20.416583",
     "status": "completed"
    },
    "tags": []
   },
   "outputs": [
    {
     "data": {
      "text/plain": [
       "((510048, 70), (510048,))"
      ]
     },
     "execution_count": 24,
     "metadata": {},
     "output_type": "execute_result"
    }
   ],
   "source": [
    "# SMOTE Oversampling (because data is imbalanced)\n",
    "\n",
    "from imblearn.over_sampling import SMOTE\n",
    "\n",
    "smote = SMOTE(sampling_strategy='auto', random_state=42)\n",
    "xresampled, yresampled = smote.fit_resample(sample_data.iloc[:,8:], sample_data[\"is_duplicate\"])\n",
    "xresampled.shape, yresampled.shape"
   ]
  },
  {
   "cell_type": "markdown",
   "id": "f54f9bf6",
   "metadata": {
    "papermill": {
     "duration": 0.772705,
     "end_time": "2025-07-03T09:24:44.350599",
     "exception": false,
     "start_time": "2025-07-03T09:24:43.577894",
     "status": "completed"
    },
    "tags": []
   },
   "source": [
    "## Model Building"
   ]
  },
  {
   "cell_type": "code",
   "execution_count": 25,
   "id": "725ca005",
   "metadata": {
    "execution": {
     "iopub.execute_input": "2025-07-03T09:24:45.932067Z",
     "iopub.status.busy": "2025-07-03T09:24:45.931496Z",
     "iopub.status.idle": "2025-07-03T09:24:46.763232Z",
     "shell.execute_reply": "2025-07-03T09:24:46.762198Z"
    },
    "papermill": {
     "duration": 1.543546,
     "end_time": "2025-07-03T09:24:46.764975",
     "exception": false,
     "start_time": "2025-07-03T09:24:45.221429",
     "status": "completed"
    },
    "tags": []
   },
   "outputs": [
    {
     "data": {
      "text/plain": [
       "((408038, 70), (408038,))"
      ]
     },
     "execution_count": 25,
     "metadata": {},
     "output_type": "execute_result"
    }
   ],
   "source": [
    "from sklearn.model_selection import train_test_split\n",
    "from sklearn.metrics import confusion_matrix, classification_report\n",
    "\n",
    "X_train, X_test, y_train, y_test = train_test_split(xresampled, yresampled, test_size = 0.2)\n",
    "X_train.shape, y_train.shape"
   ]
  },
  {
   "cell_type": "markdown",
   "id": "f7da50b4",
   "metadata": {
    "papermill": {
     "duration": 0.697835,
     "end_time": "2025-07-03T09:24:48.228006",
     "exception": false,
     "start_time": "2025-07-03T09:24:47.530171",
     "status": "completed"
    },
    "tags": []
   },
   "source": [
    "### 1. Random Forest Classifier"
   ]
  },
  {
   "cell_type": "code",
   "execution_count": 26,
   "id": "0b987e50",
   "metadata": {
    "execution": {
     "iopub.execute_input": "2025-07-03T09:24:49.697765Z",
     "iopub.status.busy": "2025-07-03T09:24:49.697241Z",
     "iopub.status.idle": "2025-07-03T09:38:36.067836Z",
     "shell.execute_reply": "2025-07-03T09:38:36.066832Z"
    },
    "papermill": {
     "duration": 827.840187,
     "end_time": "2025-07-03T09:38:36.834615",
     "exception": false,
     "start_time": "2025-07-03T09:24:48.994428",
     "status": "completed"
    },
    "tags": []
   },
   "outputs": [
    {
     "data": {
      "text/plain": [
       "0.8584158415841584"
      ]
     },
     "execution_count": 26,
     "metadata": {},
     "output_type": "execute_result"
    }
   ],
   "source": [
    "from sklearn.ensemble import RandomForestClassifier\n",
    "\n",
    "rf_model = RandomForestClassifier()\n",
    "rf_model.fit(X_train, y_train)\n",
    "rf_model.score(X_test, y_test)"
   ]
  },
  {
   "cell_type": "markdown",
   "id": "cdb82a62",
   "metadata": {
    "papermill": {
     "duration": 0.770593,
     "end_time": "2025-07-03T09:38:38.280455",
     "exception": false,
     "start_time": "2025-07-03T09:38:37.509862",
     "status": "completed"
    },
    "tags": []
   },
   "source": [
    "### 2. XGBoost"
   ]
  },
  {
   "cell_type": "code",
   "execution_count": 27,
   "id": "12937550",
   "metadata": {
    "execution": {
     "iopub.execute_input": "2025-07-03T09:38:39.781857Z",
     "iopub.status.busy": "2025-07-03T09:38:39.781447Z",
     "iopub.status.idle": "2025-07-03T09:38:49.400533Z",
     "shell.execute_reply": "2025-07-03T09:38:49.399433Z"
    },
    "papermill": {
     "duration": 10.446792,
     "end_time": "2025-07-03T09:38:49.402231",
     "exception": false,
     "start_time": "2025-07-03T09:38:38.955439",
     "status": "completed"
    },
    "tags": []
   },
   "outputs": [
    {
     "data": {
      "text/plain": [
       "0.8060680325458288"
      ]
     },
     "execution_count": 27,
     "metadata": {},
     "output_type": "execute_result"
    }
   ],
   "source": [
    "import xgboost as xg\n",
    "\n",
    "xg_model = xg.XGBClassifier()\n",
    "xg_model.fit(X_train, y_train)\n",
    "xg_model.score(X_test, y_test)"
   ]
  },
  {
   "cell_type": "markdown",
   "id": "a1cad2ab",
   "metadata": {
    "papermill": {
     "duration": 0.775739,
     "end_time": "2025-07-03T09:38:50.859256",
     "exception": false,
     "start_time": "2025-07-03T09:38:50.083517",
     "status": "completed"
    },
    "tags": []
   },
   "source": [
    "## Plotting Confusion Matrices and generating Classification Reports"
   ]
  },
  {
   "cell_type": "code",
   "execution_count": 28,
   "id": "b6d93d62",
   "metadata": {
    "execution": {
     "iopub.execute_input": "2025-07-03T09:38:52.291335Z",
     "iopub.status.busy": "2025-07-03T09:38:52.290993Z",
     "iopub.status.idle": "2025-07-03T09:38:59.133951Z",
     "shell.execute_reply": "2025-07-03T09:38:59.132664Z"
    },
    "papermill": {
     "duration": 7.599649,
     "end_time": "2025-07-03T09:38:59.135797",
     "exception": false,
     "start_time": "2025-07-03T09:38:51.536148",
     "status": "completed"
    },
    "tags": []
   },
   "outputs": [],
   "source": [
    "y_pred_rf = rf_model.predict(X_test)\n",
    "y_pred_xg = xg_model.predict(X_test)\n",
    "conf_matrix_rf = confusion_matrix(y_test, y_pred_rf)\n",
    "conf_matrix_xg = confusion_matrix(y_test, y_pred_xg)\n",
    "class_report_rf = pd.DataFrame(classification_report(y_test, y_pred_rf, output_dict = True))\n",
    "class_report_xg = pd.DataFrame(classification_report(y_test, y_pred_xg, output_dict = True))"
   ]
  },
  {
   "cell_type": "code",
   "execution_count": 29,
   "id": "9d0df8ff",
   "metadata": {
    "execution": {
     "iopub.execute_input": "2025-07-03T09:39:00.600006Z",
     "iopub.status.busy": "2025-07-03T09:39:00.599663Z",
     "iopub.status.idle": "2025-07-03T09:39:00.710060Z",
     "shell.execute_reply": "2025-07-03T09:39:00.709142Z"
    },
    "papermill": {
     "duration": 0.79813,
     "end_time": "2025-07-03T09:39:00.712807",
     "exception": false,
     "start_time": "2025-07-03T09:38:59.914677",
     "status": "completed"
    },
    "tags": []
   },
   "outputs": [
    {
     "data": {
      "image/png": "[encoded data removed]",
      "text/plain": [
       "<Figure size 400x400 with 1 Axes>"
      ]
     },
     "metadata": {},
     "output_type": "display_data"
    }
   ],
   "source": [
    "plt.figure(figsize=(4, 4))\n",
    "sns.heatmap(conf_matrix_rf, annot=True, fmt='d', cmap='Blues', cbar=False)\n",
    "plt.xlabel('Predicted Labels')\n",
    "plt.ylabel('True Labels')\n",
    "plt.title('Random Forest Classifier')\n",
    "plt.show()"
   ]
  },
  {
   "cell_type": "code",
   "execution_count": 30,
   "id": "d6a2f2ff",
   "metadata": {
    "execution": {
     "iopub.execute_input": "2025-07-03T09:39:02.191115Z",
     "iopub.status.busy": "2025-07-03T09:39:02.190328Z",
     "iopub.status.idle": "2025-07-03T09:39:02.289218Z",
     "shell.execute_reply": "2025-07-03T09:39:02.288313Z"
    },
    "papermill": {
     "duration": 0.873592,
     "end_time": "2025-07-03T09:39:02.290996",
     "exception": false,
     "start_time": "2025-07-03T09:39:01.417404",
     "status": "completed"
    },
    "tags": []
   },
   "outputs": [
    {
     "data": {
      "image/png": "[encoded data removed]",
      "text/plain": [
       "<Figure size 400x400 with 1 Axes>"
      ]
     },
     "metadata": {},
     "output_type": "display_data"
    }
   ],
   "source": [
    "plt.figure(figsize=(4, 4))\n",
    "sns.heatmap(conf_matrix_xg, annot=True, fmt='d', cbar=False)\n",
    "plt.xlabel('Predicted Labels')\n",
    "plt.ylabel('True Labels')\n",
    "plt.title('XGBoost')\n",
    "plt.show()"
   ]
  },
  {
   "cell_type": "code",
   "execution_count": 31,
   "id": "262676c9",
   "metadata": {
    "execution": {
     "iopub.execute_input": "2025-07-03T09:39:03.792272Z",
     "iopub.status.busy": "2025-07-03T09:39:03.791968Z",
     "iopub.status.idle": "2025-07-03T09:39:03.804373Z",
     "shell.execute_reply": "2025-07-03T09:39:03.803470Z"
    },
    "papermill": {
     "duration": 0.787749,
     "end_time": "2025-07-03T09:39:03.805939",
     "exception": false,
     "start_time": "2025-07-03T09:39:03.018190",
     "status": "completed"
    },
    "tags": []
   },
   "outputs": [
    {
     "data": {
      "text/html": [
       "<div>\n",
       "<style scoped>\n",
       "    .dataframe tbody tr th:only-of-type {\n",
       "        vertical-align: middle;\n",
       "    }\n",
       "\n",
       "    .dataframe tbody tr th {\n",
       "        vertical-align: top;\n",
       "    }\n",
       "\n",
       "    .dataframe thead th {\n",
       "        text-align: right;\n",
       "    }\n",
       "</style>\n",
       "<table border=\"1\" class=\"dataframe\">\n",
       "  <thead>\n",
       "    <tr style=\"text-align: right;\">\n",
       "      <th></th>\n",
       "      <th>0</th>\n",
       "      <th>1</th>\n",
       "      <th>accuracy</th>\n",
       "      <th>macro avg</th>\n",
       "      <th>weighted avg</th>\n",
       "    </tr>\n",
       "  </thead>\n",
       "  <tbody>\n",
       "    <tr>\n",
       "      <th>precision</th>\n",
       "      <td>0.850759</td>\n",
       "      <td>0.866429</td>\n",
       "      <td>0.858416</td>\n",
       "      <td>0.858594</td>\n",
       "      <td>0.858589</td>\n",
       "    </tr>\n",
       "    <tr>\n",
       "      <th>recall</th>\n",
       "      <td>0.869546</td>\n",
       "      <td>0.847272</td>\n",
       "      <td>0.858416</td>\n",
       "      <td>0.858409</td>\n",
       "      <td>0.858416</td>\n",
       "    </tr>\n",
       "    <tr>\n",
       "      <th>f1-score</th>\n",
       "      <td>0.860050</td>\n",
       "      <td>0.856743</td>\n",
       "      <td>0.858416</td>\n",
       "      <td>0.858397</td>\n",
       "      <td>0.858398</td>\n",
       "    </tr>\n",
       "    <tr>\n",
       "      <th>support</th>\n",
       "      <td>51037.000000</td>\n",
       "      <td>50973.000000</td>\n",
       "      <td>0.858416</td>\n",
       "      <td>102010.000000</td>\n",
       "      <td>102010.000000</td>\n",
       "    </tr>\n",
       "  </tbody>\n",
       "</table>\n",
       "</div>"
      ],
      "text/plain": [
       "                      0             1  accuracy      macro avg   weighted avg\n",
       "precision      0.850759      0.866429  0.858416       0.858594       0.858589\n",
       "recall         0.869546      0.847272  0.858416       0.858409       0.858416\n",
       "f1-score       0.860050      0.856743  0.858416       0.858397       0.858398\n",
       "support    51037.000000  50973.000000  0.858416  102010.000000  102010.000000"
      ]
     },
     "execution_count": 31,
     "metadata": {},
     "output_type": "execute_result"
    }
   ],
   "source": [
    "class_report_rf"
   ]
  },
  {
   "cell_type": "code",
   "execution_count": 32,
   "id": "60d4290f",
   "metadata": {
    "execution": {
     "iopub.execute_input": "2025-07-03T09:39:05.319735Z",
     "iopub.status.busy": "2025-07-03T09:39:05.318787Z",
     "iopub.status.idle": "2025-07-03T09:39:05.331334Z",
     "shell.execute_reply": "2025-07-03T09:39:05.330366Z"
    },
    "papermill": {
     "duration": 0.823456,
     "end_time": "2025-07-03T09:39:05.333108",
     "exception": false,
     "start_time": "2025-07-03T09:39:04.509652",
     "status": "completed"
    },
    "tags": []
   },
   "outputs": [
    {
     "data": {
      "text/html": [
       "<div>\n",
       "<style scoped>\n",
       "    .dataframe tbody tr th:only-of-type {\n",
       "        vertical-align: middle;\n",
       "    }\n",
       "\n",
       "    .dataframe tbody tr th {\n",
       "        vertical-align: top;\n",
       "    }\n",
       "\n",
       "    .dataframe thead th {\n",
       "        text-align: right;\n",
       "    }\n",
       "</style>\n",
       "<table border=\"1\" class=\"dataframe\">\n",
       "  <thead>\n",
       "    <tr style=\"text-align: right;\">\n",
       "      <th></th>\n",
       "      <th>0</th>\n",
       "      <th>1</th>\n",
       "      <th>accuracy</th>\n",
       "      <th>macro avg</th>\n",
       "      <th>weighted avg</th>\n",
       "    </tr>\n",
       "  </thead>\n",
       "  <tbody>\n",
       "    <tr>\n",
       "      <th>precision</th>\n",
       "      <td>0.808907</td>\n",
       "      <td>0.803275</td>\n",
       "      <td>0.806068</td>\n",
       "      <td>0.806091</td>\n",
       "      <td>0.806093</td>\n",
       "    </tr>\n",
       "    <tr>\n",
       "      <th>recall</th>\n",
       "      <td>0.801791</td>\n",
       "      <td>0.810351</td>\n",
       "      <td>0.806068</td>\n",
       "      <td>0.806071</td>\n",
       "      <td>0.806068</td>\n",
       "    </tr>\n",
       "    <tr>\n",
       "      <th>f1-score</th>\n",
       "      <td>0.805333</td>\n",
       "      <td>0.806797</td>\n",
       "      <td>0.806068</td>\n",
       "      <td>0.806065</td>\n",
       "      <td>0.806065</td>\n",
       "    </tr>\n",
       "    <tr>\n",
       "      <th>support</th>\n",
       "      <td>51037.000000</td>\n",
       "      <td>50973.000000</td>\n",
       "      <td>0.806068</td>\n",
       "      <td>102010.000000</td>\n",
       "      <td>102010.000000</td>\n",
       "    </tr>\n",
       "  </tbody>\n",
       "</table>\n",
       "</div>"
      ],
      "text/plain": [
       "                      0             1  accuracy      macro avg   weighted avg\n",
       "precision      0.808907      0.803275  0.806068       0.806091       0.806093\n",
       "recall         0.801791      0.810351  0.806068       0.806071       0.806068\n",
       "f1-score       0.805333      0.806797  0.806068       0.806065       0.806065\n",
       "support    51037.000000  50973.000000  0.806068  102010.000000  102010.000000"
      ]
     },
     "execution_count": 32,
     "metadata": {},
     "output_type": "execute_result"
    }
   ],
   "source": [
    "class_report_xg"
   ]
  },
  {
   "cell_type": "markdown",
   "id": "2c4a5fc4",
   "metadata": {
    "papermill": {
     "duration": 0.695563,
     "end_time": "2025-07-03T09:39:06.816356",
     "exception": false,
     "start_time": "2025-07-03T09:39:06.120793",
     "status": "completed"
    },
    "tags": []
   },
   "source": [
    "### Inference function"
   ]
  },
  {
   "cell_type": "code",
   "execution_count": 33,
   "id": "799b75b7",
   "metadata": {
    "execution": {
     "iopub.execute_input": "2025-07-03T09:39:08.282247Z",
     "iopub.status.busy": "2025-07-03T09:39:08.281483Z",
     "iopub.status.idle": "2025-07-03T09:39:08.290901Z",
     "shell.execute_reply": "2025-07-03T09:39:08.289858Z"
    },
    "papermill": {
     "duration": 0.71493,
     "end_time": "2025-07-03T09:39:08.292396",
     "exception": false,
     "start_time": "2025-07-03T09:39:07.577466",
     "status": "completed"
    },
    "tags": []
   },
   "outputs": [],
   "source": [
    "def inference(sample1, sample2, model):\n",
    "    inf_text1 = process_word_list(sample1.split())\n",
    "    inf_text2 = process_word_list(sample2.split())\n",
    "\n",
    "    inf_vec1 = np.zeros((1, 30))\n",
    "    inf_vec2 = np.zeros((1, 30))\n",
    "    inf_other_features = np.zeros((1, 10))\n",
    "\n",
    "    if len(inf_text1) != 0:\n",
    "        inf_vec1[0] = (sum([word2vec_model.wv[word] for word in inf_text1 if word in word2vec_model.wv.index_to_key]) / len(inf_text1))\n",
    "        inf_blob1 = text_analysis(inf_text1)\n",
    "    else:\n",
    "        inf_vec1[0] = np.zeros((30,))\n",
    "        inf_blob1 = np.zeros((5,))\n",
    "    if len(inf_text2) != 0:\n",
    "        inf_vec2[0] = (sum([word2vec_model.wv[word] for word in inf_text2 if word in word2vec_model.wv.index_to_key]) / len(inf_text2))\n",
    "        inf_blob2 = text_analysis(inf_text2)\n",
    "    else:\n",
    "        inf_vec2[0] = np.zeros((30,))\n",
    "        inf_blob2 = np.zeros((5,))\n",
    "    inf_other_features[0] = np.concatenate([inf_blob1, inf_blob2])\n",
    "\n",
    "    inf_data = pd.DataFrame({})\n",
    "    inf_data = pd.concat([inf_data, \n",
    "                            pd.DataFrame(inf_vec1, columns = np.arange(0, 30)),\n",
    "                            pd.DataFrame(inf_vec2, columns = np.arange(30, 60)),\n",
    "                            pd.DataFrame(inf_other_features, columns = np.arange(60, 70))], axis = 1)\n",
    "    output = model.predict(inf_data)\n",
    "    if out == 0:\n",
    "        print(\"Not Duplicate\")\n",
    "    else:\n",
    "        print(\"Duplicate\")\n"
   ]
  },
  {
   "cell_type": "markdown",
   "id": "f254318f",
   "metadata": {
    "papermill": {
     "duration": 0.686187,
     "end_time": "2025-07-03T09:39:09.741310",
     "exception": false,
     "start_time": "2025-07-03T09:39:09.055123",
     "status": "completed"
    },
    "tags": []
   },
   "source": [
    "## Deep Learning Approaches"
   ]
  },
  {
   "cell_type": "code",
   "execution_count": 34,
   "id": "31e7a01d",
   "metadata": {
    "execution": {
     "iopub.execute_input": "2025-07-03T09:39:11.309969Z",
     "iopub.status.busy": "2025-07-03T09:39:11.309374Z",
     "iopub.status.idle": "2025-07-03T09:39:11.569361Z",
     "shell.execute_reply": "2025-07-03T09:39:11.568237Z"
    },
    "papermill": {
     "duration": 1.066227,
     "end_time": "2025-07-03T09:39:11.571059",
     "exception": false,
     "start_time": "2025-07-03T09:39:10.504832",
     "status": "completed"
    },
    "tags": []
   },
   "outputs": [
    {
     "data": {
      "text/plain": [
       "((510048, 2), (510048,))"
      ]
     },
     "execution_count": 34,
     "metadata": {},
     "output_type": "execute_result"
    }
   ],
   "source": [
    "from imblearn.over_sampling import RandomOverSampler\n",
    "\n",
    "ros = RandomOverSampler(random_state=42)\n",
    "xresampled_dl, yresampled_dl = ros.fit_resample(train_df.iloc[:,3:5], train_df[\"is_duplicate\"])\n",
    "xresampled_dl.shape, yresampled_dl.shape"
   ]
  },
  {
   "cell_type": "code",
   "execution_count": 35,
   "id": "f78115f0",
   "metadata": {
    "execution": {
     "iopub.execute_input": "2025-07-03T09:39:13.097134Z",
     "iopub.status.busy": "2025-07-03T09:39:13.096806Z",
     "iopub.status.idle": "2025-07-03T09:39:20.732483Z",
     "shell.execute_reply": "2025-07-03T09:39:20.731344Z"
    },
    "papermill": {
     "duration": 8.446419,
     "end_time": "2025-07-03T09:39:20.734053",
     "exception": false,
     "start_time": "2025-07-03T09:39:12.287634",
     "status": "completed"
    },
    "tags": []
   },
   "outputs": [
    {
     "name": "stderr",
     "output_type": "stream",
     "text": [
      "100%|██████████| 510048/510048 [00:03<00:00, 147535.27it/s]\n"
     ]
    }
   ],
   "source": [
    "que1 = np.array(xresampled_dl['question1'].tolist())\n",
    "que2 = np.array(xresampled_dl['question2'].tolist())\n",
    "\n",
    "docx = []\n",
    "for i in tqdm(range(len(que1))):\n",
    "    docx.append(que1[i] + \" \" + que2[i])"
   ]
  },
  {
   "cell_type": "code",
   "execution_count": 36,
   "id": "a5118fd2",
   "metadata": {
    "execution": {
     "iopub.execute_input": "2025-07-03T09:39:22.177850Z",
     "iopub.status.busy": "2025-07-03T09:39:22.177415Z",
     "iopub.status.idle": "2025-07-03T09:39:23.040411Z",
     "shell.execute_reply": "2025-07-03T09:39:23.039357Z"
    },
    "papermill": {
     "duration": 1.622433,
     "end_time": "2025-07-03T09:39:23.042307",
     "exception": false,
     "start_time": "2025-07-03T09:39:21.419874",
     "status": "completed"
    },
    "tags": []
   },
   "outputs": [
    {
     "name": "stderr",
     "output_type": "stream",
     "text": [
      "100%|██████████| 510048/510048 [00:00<00:00, 596632.20it/s]\n"
     ]
    }
   ],
   "source": [
    "lengths = []\n",
    "for sent in tqdm(docx):\n",
    "    lengths.append(len(sent.split()))"
   ]
  },
  {
   "cell_type": "code",
   "execution_count": 37,
   "id": "dc467554",
   "metadata": {
    "execution": {
     "iopub.execute_input": "2025-07-03T09:39:24.455802Z",
     "iopub.status.busy": "2025-07-03T09:39:24.455079Z",
     "iopub.status.idle": "2025-07-03T09:39:27.112867Z",
     "shell.execute_reply": "2025-07-03T09:39:27.111599Z"
    },
    "papermill": {
     "duration": 3.378374,
     "end_time": "2025-07-03T09:39:27.114582",
     "exception": false,
     "start_time": "2025-07-03T09:39:23.736208",
     "status": "completed"
    },
    "tags": []
   },
   "outputs": [
    {
     "name": "stderr",
     "output_type": "stream",
     "text": [
      "/usr/local/lib/python3.11/dist-packages/seaborn/_oldcore.py:1119: FutureWarning: use_inf_as_na option is deprecated and will be removed in a future version. Convert inf values to NaN before operating instead.\n",
      "  with pd.option_context('mode.use_inf_as_na', True):\n"
     ]
    },
    {
     "data": {
      "text/plain": [
       "<Axes: ylabel='Density'>"
      ]
     },
     "execution_count": 37,
     "metadata": {},
     "output_type": "execute_result"
    },
    {
     "data": {
      "image/png": "[encoded data removed]",
      "text/plain": [
       "<Figure size 640x480 with 1 Axes>"
      ]
     },
     "metadata": {},
     "output_type": "display_data"
    }
   ],
   "source": [
    "sns.kdeplot(lengths)"
   ]
  },
  {
   "cell_type": "code",
   "execution_count": 38,
   "id": "585cbcfd",
   "metadata": {
    "execution": {
     "iopub.execute_input": "2025-07-03T09:39:28.570184Z",
     "iopub.status.busy": "2025-07-03T09:39:28.569850Z",
     "iopub.status.idle": "2025-07-03T09:40:08.097387Z",
     "shell.execute_reply": "2025-07-03T09:40:08.096387Z"
    },
    "papermill": {
     "duration": 40.217737,
     "end_time": "2025-07-03T09:40:08.099258",
     "exception": false,
     "start_time": "2025-07-03T09:39:27.881521",
     "status": "completed"
    },
    "tags": []
   },
   "outputs": [
    {
     "name": "stderr",
     "output_type": "stream",
     "text": [
      "2025-07-03 09:39:30.916929: E external/local_xla/xla/stream_executor/cuda/cuda_fft.cc:477] Unable to register cuFFT factory: Attempting to register factory for plugin cuFFT when one has already been registered\n",
      "WARNING: All log messages before absl::InitializeLog() is called are written to STDERR\n",
      "E0000 00:00:1751535571.189677      13 cuda_dnn.cc:8310] Unable to register cuDNN factory: Attempting to register factory for plugin cuDNN when one has already been registered\n",
      "E0000 00:00:1751535571.281458      13 cuda_blas.cc:1418] Unable to register cuBLAS factory: Attempting to register factory for plugin cuBLAS when one has already been registered\n"
     ]
    }
   ],
   "source": [
    "from tensorflow.keras.preprocessing.text import Tokenizer\n",
    "from tensorflow.keras.utils import pad_sequences\n",
    "\n",
    "tokenizer = Tokenizer(oov_token = \"<nothing>\")\n",
    "tokenizer.fit_on_texts(docx)\n",
    "sequences = tokenizer.texts_to_sequences(docx)\n",
    "sequences = pad_sequences(sequences, padding = \"post\", maxlen = 35)"
   ]
  },
  {
   "cell_type": "markdown",
   "id": "204651d4",
   "metadata": {
    "papermill": {
     "duration": 0.801257,
     "end_time": "2025-07-03T09:40:09.657208",
     "exception": false,
     "start_time": "2025-07-03T09:40:08.855951",
     "status": "completed"
    },
    "tags": []
   },
   "source": [
    "### 1. RNN"
   ]
  },
  {
   "cell_type": "code",
   "execution_count": 39,
   "id": "2586263e",
   "metadata": {
    "execution": {
     "iopub.execute_input": "2025-07-03T09:40:11.165183Z",
     "iopub.status.busy": "2025-07-03T09:40:11.164474Z",
     "iopub.status.idle": "2025-07-03T09:40:11.237029Z",
     "shell.execute_reply": "2025-07-03T09:40:11.236176Z"
    },
    "papermill": {
     "duration": 0.874622,
     "end_time": "2025-07-03T09:40:11.238782",
     "exception": false,
     "start_time": "2025-07-03T09:40:10.364160",
     "status": "completed"
    },
    "tags": []
   },
   "outputs": [
    {
     "name": "stderr",
     "output_type": "stream",
     "text": [
      "/usr/local/lib/python3.11/dist-packages/keras/src/layers/core/embedding.py:90: UserWarning: Argument `input_length` is deprecated. Just remove it.\n",
      "  warnings.warn(\n",
      "2025-07-03 09:40:11.182856: E external/local_xla/xla/stream_executor/cuda/cuda_driver.cc:152] failed call to cuInit: INTERNAL: CUDA error: Failed call to cuInit: UNKNOWN ERROR (303)\n"
     ]
    },
    {
     "data": {
      "text/html": [
       "<pre style=\"white-space:pre;overflow-x:auto;line-height:normal;font-family:Menlo,'DejaVu Sans Mono',consolas,'Courier New',monospace\"><span style=\"font-weight: bold\">Model: \"sequential\"</span>\n",
       "</pre>\n"
      ],
      "text/plain": [
       "\u001b[1mModel: \"sequential\"\u001b[0m\n"
      ]
     },
     "metadata": {},
     "output_type": "display_data"
    },
    {
     "data": {
      "text/html": [
       "<pre style=\"white-space:pre;overflow-x:auto;line-height:normal;font-family:Menlo,'DejaVu Sans Mono',consolas,'Courier New',monospace\">┏━━━━━━━━━━━━━━━━━━━━━━━━━━━━━━━━━━━━━━┳━━━━━━━━━━━━━━━━━━━━━━━━━━━━━┳━━━━━━━━━━━━━━━━━┓\n",
       "┃<span style=\"font-weight: bold\"> Layer (type)                         </span>┃<span style=\"font-weight: bold\"> Output Shape                </span>┃<span style=\"font-weight: bold\">         Param # </span>┃\n",
       "┡━━━━━━━━━━━━━━━━━━━━━━━━━━━━━━━━━━━━━━╇━━━━━━━━━━━━━━━━━━━━━━━━━━━━━╇━━━━━━━━━━━━━━━━━┩\n",
       "│ embedding (<span style=\"color: #0087ff; text-decoration-color: #0087ff\">Embedding</span>)                │ ?                           │     <span style=\"color: #00af00; text-decoration-color: #00af00\">0</span> (unbuilt) │\n",
       "├──────────────────────────────────────┼─────────────────────────────┼─────────────────┤\n",
       "│ simple_rnn (<span style=\"color: #0087ff; text-decoration-color: #0087ff\">SimpleRNN</span>)               │ ?                           │     <span style=\"color: #00af00; text-decoration-color: #00af00\">0</span> (unbuilt) │\n",
       "├──────────────────────────────────────┼─────────────────────────────┼─────────────────┤\n",
       "│ dense (<span style=\"color: #0087ff; text-decoration-color: #0087ff\">Dense</span>)                        │ ?                           │     <span style=\"color: #00af00; text-decoration-color: #00af00\">0</span> (unbuilt) │\n",
       "└──────────────────────────────────────┴─────────────────────────────┴─────────────────┘\n",
       "</pre>\n"
      ],
      "text/plain": [
       "┏━━━━━━━━━━━━━━━━━━━━━━━━━━━━━━━━━━━━━━┳━━━━━━━━━━━━━━━━━━━━━━━━━━━━━┳━━━━━━━━━━━━━━━━━┓\n",
       "┃\u001b[1m \u001b[0m\u001b[1mLayer (type)                        \u001b[0m\u001b[1m \u001b[0m┃\u001b[1m \u001b[0m\u001b[1mOutput Shape               \u001b[0m\u001b[1m \u001b[0m┃\u001b[1m \u001b[0m\u001b[1m        Param #\u001b[0m\u001b[1m \u001b[0m┃\n",
       "┡━━━━━━━━━━━━━━━━━━━━━━━━━━━━━━━━━━━━━━╇━━━━━━━━━━━━━━━━━━━━━━━━━━━━━╇━━━━━━━━━━━━━━━━━┩\n",
       "│ embedding (\u001b[38;5;33mEmbedding\u001b[0m)                │ ?                           │     \u001b[38;5;34m0\u001b[0m (unbuilt) │\n",
       "├──────────────────────────────────────┼─────────────────────────────┼─────────────────┤\n",
       "│ simple_rnn (\u001b[38;5;33mSimpleRNN\u001b[0m)               │ ?                           │     \u001b[38;5;34m0\u001b[0m (unbuilt) │\n",
       "├──────────────────────────────────────┼─────────────────────────────┼─────────────────┤\n",
       "│ dense (\u001b[38;5;33mDense\u001b[0m)                        │ ?                           │     \u001b[38;5;34m0\u001b[0m (unbuilt) │\n",
       "└──────────────────────────────────────┴─────────────────────────────┴─────────────────┘\n"
      ]
     },
     "metadata": {},
     "output_type": "display_data"
    },
    {
     "data": {
      "text/html": [
       "<pre style=\"white-space:pre;overflow-x:auto;line-height:normal;font-family:Menlo,'DejaVu Sans Mono',consolas,'Courier New',monospace\"><span style=\"font-weight: bold\"> Total params: </span><span style=\"color: #00af00; text-decoration-color: #00af00\">0</span> (0.00 B)\n",
       "</pre>\n"
      ],
      "text/plain": [
       "\u001b[1m Total params: \u001b[0m\u001b[38;5;34m0\u001b[0m (0.00 B)\n"
      ]
     },
     "metadata": {},
     "output_type": "display_data"
    },
    {
     "data": {
      "text/html": [
       "<pre style=\"white-space:pre;overflow-x:auto;line-height:normal;font-family:Menlo,'DejaVu Sans Mono',consolas,'Courier New',monospace\"><span style=\"font-weight: bold\"> Trainable params: </span><span style=\"color: #00af00; text-decoration-color: #00af00\">0</span> (0.00 B)\n",
       "</pre>\n"
      ],
      "text/plain": [
       "\u001b[1m Trainable params: \u001b[0m\u001b[38;5;34m0\u001b[0m (0.00 B)\n"
      ]
     },
     "metadata": {},
     "output_type": "display_data"
    },
    {
     "data": {
      "text/html": [
       "<pre style=\"white-space:pre;overflow-x:auto;line-height:normal;font-family:Menlo,'DejaVu Sans Mono',consolas,'Courier New',monospace\"><span style=\"font-weight: bold\"> Non-trainable params: </span><span style=\"color: #00af00; text-decoration-color: #00af00\">0</span> (0.00 B)\n",
       "</pre>\n"
      ],
      "text/plain": [
       "\u001b[1m Non-trainable params: \u001b[0m\u001b[38;5;34m0\u001b[0m (0.00 B)\n"
      ]
     },
     "metadata": {},
     "output_type": "display_data"
    }
   ],
   "source": [
    "import tensorflow as tf\n",
    "\n",
    "model = tf.keras.Sequential()\n",
    "model.add(tf.keras.layers.Embedding(sequences.max()+1, output_dim = 30, input_length = 35))\n",
    "model.add(tf.keras.layers.SimpleRNN(32, return_sequences = False))\n",
    "model.add(tf.keras.layers.Dense(1, activation = \"sigmoid\"))\n",
    "model.summary()"
   ]
  },
  {
   "cell_type": "code",
   "execution_count": 40,
   "id": "cd3d4df7",
   "metadata": {
    "execution": {
     "iopub.execute_input": "2025-07-03T09:40:12.724444Z",
     "iopub.status.busy": "2025-07-03T09:40:12.723639Z",
     "iopub.status.idle": "2025-07-03T09:45:47.592246Z",
     "shell.execute_reply": "2025-07-03T09:45:47.591352Z"
    },
    "papermill": {
     "duration": 335.660951,
     "end_time": "2025-07-03T09:45:47.594367",
     "exception": false,
     "start_time": "2025-07-03T09:40:11.933416",
     "status": "completed"
    },
    "tags": []
   },
   "outputs": [
    {
     "name": "stdout",
     "output_type": "stream",
     "text": [
      "Epoch 1/20\n",
      "\u001b[1m409/409\u001b[0m \u001b[32m━━━━━━━━━━━━━━━━━━━━\u001b[0m\u001b[37m\u001b[0m \u001b[1m19s\u001b[0m 38ms/step - accuracy: 0.7139 - loss: 0.5594 - val_accuracy: 0.4028 - val_loss: 0.8755\n",
      "Epoch 2/20\n",
      "\u001b[1m409/409\u001b[0m \u001b[32m━━━━━━━━━━━━━━━━━━━━\u001b[0m\u001b[37m\u001b[0m \u001b[1m16s\u001b[0m 39ms/step - accuracy: 0.7872 - loss: 0.4533 - val_accuracy: 0.6975 - val_loss: 0.5906\n",
      "Epoch 3/20\n",
      "\u001b[1m409/409\u001b[0m \u001b[32m━━━━━━━━━━━━━━━━━━━━\u001b[0m\u001b[37m\u001b[0m \u001b[1m18s\u001b[0m 44ms/step - accuracy: 0.8251 - loss: 0.3839 - val_accuracy: 0.7887 - val_loss: 0.4620\n",
      "Epoch 4/20\n",
      "\u001b[1m409/409\u001b[0m \u001b[32m━━━━━━━━━━━━━━━━━━━━\u001b[0m\u001b[37m\u001b[0m \u001b[1m19s\u001b[0m 47ms/step - accuracy: 0.8587 - loss: 0.3206 - val_accuracy: 0.8403 - val_loss: 0.3687\n",
      "Epoch 5/20\n",
      "\u001b[1m409/409\u001b[0m \u001b[32m━━━━━━━━━━━━━━━━━━━━\u001b[0m\u001b[37m\u001b[0m \u001b[1m17s\u001b[0m 42ms/step - accuracy: 0.8814 - loss: 0.2762 - val_accuracy: 0.8698 - val_loss: 0.3232\n",
      "Epoch 6/20\n",
      "\u001b[1m409/409\u001b[0m \u001b[32m━━━━━━━━━━━━━━━━━━━━\u001b[0m\u001b[37m\u001b[0m \u001b[1m17s\u001b[0m 41ms/step - accuracy: 0.8982 - loss: 0.2401 - val_accuracy: 0.9461 - val_loss: 0.1756\n",
      "Epoch 7/20\n",
      "\u001b[1m409/409\u001b[0m \u001b[32m━━━━━━━━━━━━━━━━━━━━\u001b[0m\u001b[37m\u001b[0m \u001b[1m17s\u001b[0m 40ms/step - accuracy: 0.9116 - loss: 0.2125 - val_accuracy: 0.8677 - val_loss: 0.3253\n",
      "Epoch 8/20\n",
      "\u001b[1m409/409\u001b[0m \u001b[32m━━━━━━━━━━━━━━━━━━━━\u001b[0m\u001b[37m\u001b[0m \u001b[1m17s\u001b[0m 41ms/step - accuracy: 0.9220 - loss: 0.1898 - val_accuracy: 0.8790 - val_loss: 0.2902\n",
      "Epoch 9/20\n",
      "\u001b[1m409/409\u001b[0m \u001b[32m━━━━━━━━━━━━━━━━━━━━\u001b[0m\u001b[37m\u001b[0m \u001b[1m16s\u001b[0m 40ms/step - accuracy: 0.9315 - loss: 0.1695 - val_accuracy: 0.9017 - val_loss: 0.2431\n",
      "Epoch 10/20\n",
      "\u001b[1m409/409\u001b[0m \u001b[32m━━━━━━━━━━━━━━━━━━━━\u001b[0m\u001b[37m\u001b[0m \u001b[1m17s\u001b[0m 41ms/step - accuracy: 0.9384 - loss: 0.1534 - val_accuracy: 0.8847 - val_loss: 0.2706\n",
      "Epoch 11/20\n",
      "\u001b[1m409/409\u001b[0m \u001b[32m━━━━━━━━━━━━━━━━━━━━\u001b[0m\u001b[37m\u001b[0m \u001b[1m16s\u001b[0m 40ms/step - accuracy: 0.9446 - loss: 0.1402 - val_accuracy: 0.9510 - val_loss: 0.1388\n",
      "Epoch 12/20\n",
      "\u001b[1m409/409\u001b[0m \u001b[32m━━━━━━━━━━━━━━━━━━━━\u001b[0m\u001b[37m\u001b[0m \u001b[1m17s\u001b[0m 42ms/step - accuracy: 0.9485 - loss: 0.1308 - val_accuracy: 0.9483 - val_loss: 0.1421\n",
      "Epoch 13/20\n",
      "\u001b[1m409/409\u001b[0m \u001b[32m━━━━━━━━━━━━━━━━━━━━\u001b[0m\u001b[37m\u001b[0m \u001b[1m16s\u001b[0m 39ms/step - accuracy: 0.9531 - loss: 0.1189 - val_accuracy: 0.9760 - val_loss: 0.0850\n",
      "Epoch 14/20\n",
      "\u001b[1m409/409\u001b[0m \u001b[32m━━━━━━━━━━━━━━━━━━━━\u001b[0m\u001b[37m\u001b[0m \u001b[1m16s\u001b[0m 40ms/step - accuracy: 0.9578 - loss: 0.1089 - val_accuracy: 0.9374 - val_loss: 0.1534\n",
      "Epoch 15/20\n",
      "\u001b[1m409/409\u001b[0m \u001b[32m━━━━━━━━━━━━━━━━━━━━\u001b[0m\u001b[37m\u001b[0m \u001b[1m16s\u001b[0m 40ms/step - accuracy: 0.9616 - loss: 0.0991 - val_accuracy: 0.9282 - val_loss: 0.1777\n",
      "Epoch 16/20\n",
      "\u001b[1m409/409\u001b[0m \u001b[32m━━━━━━━━━━━━━━━━━━━━\u001b[0m\u001b[37m\u001b[0m \u001b[1m16s\u001b[0m 39ms/step - accuracy: 0.9629 - loss: 0.0950 - val_accuracy: 0.9488 - val_loss: 0.1403\n",
      "Epoch 17/20\n",
      "\u001b[1m409/409\u001b[0m \u001b[32m━━━━━━━━━━━━━━━━━━━━\u001b[0m\u001b[37m\u001b[0m \u001b[1m15s\u001b[0m 38ms/step - accuracy: 0.9647 - loss: 0.0918 - val_accuracy: 0.9547 - val_loss: 0.1227\n",
      "Epoch 18/20\n",
      "\u001b[1m409/409\u001b[0m \u001b[32m━━━━━━━━━━━━━━━━━━━━\u001b[0m\u001b[37m\u001b[0m \u001b[1m17s\u001b[0m 40ms/step - accuracy: 0.9657 - loss: 0.0877 - val_accuracy: 0.9659 - val_loss: 0.0956\n",
      "Epoch 19/20\n",
      "\u001b[1m409/409\u001b[0m \u001b[32m━━━━━━━━━━━━━━━━━━━━\u001b[0m\u001b[37m\u001b[0m \u001b[1m16s\u001b[0m 39ms/step - accuracy: 0.9705 - loss: 0.0782 - val_accuracy: 0.9391 - val_loss: 0.1542\n",
      "Epoch 20/20\n",
      "\u001b[1m409/409\u001b[0m \u001b[32m━━━━━━━━━━━━━━━━━━━━\u001b[0m\u001b[37m\u001b[0m \u001b[1m16s\u001b[0m 39ms/step - accuracy: 0.9702 - loss: 0.0776 - val_accuracy: 0.9541 - val_loss: 0.1189\n"
     ]
    }
   ],
   "source": [
    "model.compile(loss = \"binary_crossentropy\", optimizer = \"adam\", metrics =[\"accuracy\"])\n",
    "history = model.fit(sequences, yresampled_dl,\n",
    "         epochs = 20, batch_size = 1000,\n",
    "         validation_split = 0.2)"
   ]
  },
  {
   "cell_type": "markdown",
   "id": "8a1bf98c",
   "metadata": {
    "papermill": {
     "duration": 1.01658,
     "end_time": "2025-07-03T09:45:49.632105",
     "exception": false,
     "start_time": "2025-07-03T09:45:48.615525",
     "status": "completed"
    },
    "tags": []
   },
   "source": [
    "### 2. LSTM"
   ]
  },
  {
   "cell_type": "code",
   "execution_count": 41,
   "id": "e13bb49e",
   "metadata": {
    "execution": {
     "iopub.execute_input": "2025-07-03T09:45:51.543179Z",
     "iopub.status.busy": "2025-07-03T09:45:51.542425Z",
     "iopub.status.idle": "2025-07-03T09:45:51.599548Z",
     "shell.execute_reply": "2025-07-03T09:45:51.598652Z"
    },
    "papermill": {
     "duration": 1.062936,
     "end_time": "2025-07-03T09:45:51.601161",
     "exception": false,
     "start_time": "2025-07-03T09:45:50.538225",
     "status": "completed"
    },
    "tags": []
   },
   "outputs": [
    {
     "data": {
      "text/html": [
       "<pre style=\"white-space:pre;overflow-x:auto;line-height:normal;font-family:Menlo,'DejaVu Sans Mono',consolas,'Courier New',monospace\"><span style=\"font-weight: bold\">Model: \"sequential_1\"</span>\n",
       "</pre>\n"
      ],
      "text/plain": [
       "\u001b[1mModel: \"sequential_1\"\u001b[0m\n"
      ]
     },
     "metadata": {},
     "output_type": "display_data"
    },
    {
     "data": {
      "text/html": [
       "<pre style=\"white-space:pre;overflow-x:auto;line-height:normal;font-family:Menlo,'DejaVu Sans Mono',consolas,'Courier New',monospace\">┏━━━━━━━━━━━━━━━━━━━━━━━━━━━━━━━━━━━━━━┳━━━━━━━━━━━━━━━━━━━━━━━━━━━━━┳━━━━━━━━━━━━━━━━━┓\n",
       "┃<span style=\"font-weight: bold\"> Layer (type)                         </span>┃<span style=\"font-weight: bold\"> Output Shape                </span>┃<span style=\"font-weight: bold\">         Param # </span>┃\n",
       "┡━━━━━━━━━━━━━━━━━━━━━━━━━━━━━━━━━━━━━━╇━━━━━━━━━━━━━━━━━━━━━━━━━━━━━╇━━━━━━━━━━━━━━━━━┩\n",
       "│ embedding_1 (<span style=\"color: #0087ff; text-decoration-color: #0087ff\">Embedding</span>)              │ ?                           │     <span style=\"color: #00af00; text-decoration-color: #00af00\">0</span> (unbuilt) │\n",
       "├──────────────────────────────────────┼─────────────────────────────┼─────────────────┤\n",
       "│ bidirectional (<span style=\"color: #0087ff; text-decoration-color: #0087ff\">Bidirectional</span>)        │ ?                           │     <span style=\"color: #00af00; text-decoration-color: #00af00\">0</span> (unbuilt) │\n",
       "├──────────────────────────────────────┼─────────────────────────────┼─────────────────┤\n",
       "│ dropout (<span style=\"color: #0087ff; text-decoration-color: #0087ff\">Dropout</span>)                    │ ?                           │               <span style=\"color: #00af00; text-decoration-color: #00af00\">0</span> │\n",
       "├──────────────────────────────────────┼─────────────────────────────┼─────────────────┤\n",
       "│ dense_1 (<span style=\"color: #0087ff; text-decoration-color: #0087ff\">Dense</span>)                      │ ?                           │     <span style=\"color: #00af00; text-decoration-color: #00af00\">0</span> (unbuilt) │\n",
       "└──────────────────────────────────────┴─────────────────────────────┴─────────────────┘\n",
       "</pre>\n"
      ],
      "text/plain": [
       "┏━━━━━━━━━━━━━━━━━━━━━━━━━━━━━━━━━━━━━━┳━━━━━━━━━━━━━━━━━━━━━━━━━━━━━┳━━━━━━━━━━━━━━━━━┓\n",
       "┃\u001b[1m \u001b[0m\u001b[1mLayer (type)                        \u001b[0m\u001b[1m \u001b[0m┃\u001b[1m \u001b[0m\u001b[1mOutput Shape               \u001b[0m\u001b[1m \u001b[0m┃\u001b[1m \u001b[0m\u001b[1m        Param #\u001b[0m\u001b[1m \u001b[0m┃\n",
       "┡━━━━━━━━━━━━━━━━━━━━━━━━━━━━━━━━━━━━━━╇━━━━━━━━━━━━━━━━━━━━━━━━━━━━━╇━━━━━━━━━━━━━━━━━┩\n",
       "│ embedding_1 (\u001b[38;5;33mEmbedding\u001b[0m)              │ ?                           │     \u001b[38;5;34m0\u001b[0m (unbuilt) │\n",
       "├──────────────────────────────────────┼─────────────────────────────┼─────────────────┤\n",
       "│ bidirectional (\u001b[38;5;33mBidirectional\u001b[0m)        │ ?                           │     \u001b[38;5;34m0\u001b[0m (unbuilt) │\n",
       "├──────────────────────────────────────┼─────────────────────────────┼─────────────────┤\n",
       "│ dropout (\u001b[38;5;33mDropout\u001b[0m)                    │ ?                           │               \u001b[38;5;34m0\u001b[0m │\n",
       "├──────────────────────────────────────┼─────────────────────────────┼─────────────────┤\n",
       "│ dense_1 (\u001b[38;5;33mDense\u001b[0m)                      │ ?                           │     \u001b[38;5;34m0\u001b[0m (unbuilt) │\n",
       "└──────────────────────────────────────┴─────────────────────────────┴─────────────────┘\n"
      ]
     },
     "metadata": {},
     "output_type": "display_data"
    },
    {
     "data": {
      "text/html": [
       "<pre style=\"white-space:pre;overflow-x:auto;line-height:normal;font-family:Menlo,'DejaVu Sans Mono',consolas,'Courier New',monospace\"><span style=\"font-weight: bold\"> Total params: </span><span style=\"color: #00af00; text-decoration-color: #00af00\">0</span> (0.00 B)\n",
       "</pre>\n"
      ],
      "text/plain": [
       "\u001b[1m Total params: \u001b[0m\u001b[38;5;34m0\u001b[0m (0.00 B)\n"
      ]
     },
     "metadata": {},
     "output_type": "display_data"
    },
    {
     "data": {
      "text/html": [
       "<pre style=\"white-space:pre;overflow-x:auto;line-height:normal;font-family:Menlo,'DejaVu Sans Mono',consolas,'Courier New',monospace\"><span style=\"font-weight: bold\"> Trainable params: </span><span style=\"color: #00af00; text-decoration-color: #00af00\">0</span> (0.00 B)\n",
       "</pre>\n"
      ],
      "text/plain": [
       "\u001b[1m Trainable params: \u001b[0m\u001b[38;5;34m0\u001b[0m (0.00 B)\n"
      ]
     },
     "metadata": {},
     "output_type": "display_data"
    },
    {
     "data": {
      "text/html": [
       "<pre style=\"white-space:pre;overflow-x:auto;line-height:normal;font-family:Menlo,'DejaVu Sans Mono',consolas,'Courier New',monospace\"><span style=\"font-weight: bold\"> Non-trainable params: </span><span style=\"color: #00af00; text-decoration-color: #00af00\">0</span> (0.00 B)\n",
       "</pre>\n"
      ],
      "text/plain": [
       "\u001b[1m Non-trainable params: \u001b[0m\u001b[38;5;34m0\u001b[0m (0.00 B)\n"
      ]
     },
     "metadata": {},
     "output_type": "display_data"
    }
   ],
   "source": [
    "from tensorflow.keras.models import Sequential\n",
    "from tensorflow.keras.layers import Embedding, Bidirectional, LSTM, Dense, Dropout\n",
    "\n",
    "max_seq_length = 35\n",
    "vocab_size = sequences.max() + 1\n",
    "\n",
    "lstm_model = Sequential()\n",
    "lstm_model.add(Embedding(input_dim=vocab_size, output_dim=100, input_length=max_seq_length))\n",
    "lstm_model.add(Bidirectional(LSTM(64, return_sequences=False)))\n",
    "lstm_model.add(Dropout(0.2))\n",
    "lstm_model.add(Dense(1, activation=\"sigmoid\"))\n",
    "lstm_model.compile(loss=\"binary_crossentropy\", optimizer=\"adam\", metrics=[\"accuracy\"])\n",
    "lstm_model.summary()"
   ]
  },
  {
   "cell_type": "code",
   "execution_count": 42,
   "id": "deeba08f",
   "metadata": {
    "execution": {
     "iopub.execute_input": "2025-07-03T09:45:53.559013Z",
     "iopub.status.busy": "2025-07-03T09:45:53.558642Z",
     "iopub.status.idle": "2025-07-03T10:41:09.202807Z",
     "shell.execute_reply": "2025-07-03T10:41:09.201777Z"
    },
    "papermill": {
     "duration": 3316.610134,
     "end_time": "2025-07-03T10:41:09.205629",
     "exception": false,
     "start_time": "2025-07-03T09:45:52.595495",
     "status": "completed"
    },
    "tags": []
   },
   "outputs": [
    {
     "name": "stdout",
     "output_type": "stream",
     "text": [
      "Epoch 1/20\n",
      "\u001b[1m409/409\u001b[0m \u001b[32m━━━━━━━━━━━━━━━━━━━━\u001b[0m\u001b[37m\u001b[0m \u001b[1m172s\u001b[0m 404ms/step - accuracy: 0.7107 - loss: 0.5601 - val_accuracy: 0.6234 - val_loss: 0.6649\n",
      "Epoch 2/20\n",
      "\u001b[1m409/409\u001b[0m \u001b[32m━━━━━━━━━━━━━━━━━━━━\u001b[0m\u001b[37m\u001b[0m \u001b[1m208s\u001b[0m 419ms/step - accuracy: 0.7826 - loss: 0.4569 - val_accuracy: 0.6619 - val_loss: 0.6140\n",
      "Epoch 3/20\n",
      "\u001b[1m409/409\u001b[0m \u001b[32m━━━━━━━━━━━━━━━━━━━━\u001b[0m\u001b[37m\u001b[0m \u001b[1m203s\u001b[0m 422ms/step - accuracy: 0.8103 - loss: 0.4018 - val_accuracy: 0.8061 - val_loss: 0.4376\n",
      "Epoch 4/20\n",
      "\u001b[1m409/409\u001b[0m \u001b[32m━━━━━━━━━━━━━━━━━━━━\u001b[0m\u001b[37m\u001b[0m \u001b[1m161s\u001b[0m 393ms/step - accuracy: 0.8370 - loss: 0.3503 - val_accuracy: 0.8062 - val_loss: 0.4387\n",
      "Epoch 5/20\n",
      "\u001b[1m409/409\u001b[0m \u001b[32m━━━━━━━━━━━━━━━━━━━━\u001b[0m\u001b[37m\u001b[0m \u001b[1m156s\u001b[0m 382ms/step - accuracy: 0.8598 - loss: 0.3051 - val_accuracy: 0.8524 - val_loss: 0.3612\n",
      "Epoch 6/20\n",
      "\u001b[1m409/409\u001b[0m \u001b[32m━━━━━━━━━━━━━━━━━━━━\u001b[0m\u001b[37m\u001b[0m \u001b[1m167s\u001b[0m 408ms/step - accuracy: 0.8780 - loss: 0.2673 - val_accuracy: 0.8043 - val_loss: 0.4185\n",
      "Epoch 7/20\n",
      "\u001b[1m409/409\u001b[0m \u001b[32m━━━━━━━━━━━━━━━━━━━━\u001b[0m\u001b[37m\u001b[0m \u001b[1m155s\u001b[0m 378ms/step - accuracy: 0.8924 - loss: 0.2392 - val_accuracy: 0.8968 - val_loss: 0.2862\n",
      "Epoch 8/20\n",
      "\u001b[1m409/409\u001b[0m \u001b[32m━━━━━━━━━━━━━━━━━━━━\u001b[0m\u001b[37m\u001b[0m \u001b[1m161s\u001b[0m 395ms/step - accuracy: 0.9059 - loss: 0.2103 - val_accuracy: 0.9263 - val_loss: 0.2200\n",
      "Epoch 9/20\n",
      "\u001b[1m409/409\u001b[0m \u001b[32m━━━━━━━━━━━━━━━━━━━━\u001b[0m\u001b[37m\u001b[0m \u001b[1m164s\u001b[0m 400ms/step - accuracy: 0.9166 - loss: 0.1897 - val_accuracy: 0.8912 - val_loss: 0.2629\n",
      "Epoch 10/20\n",
      "\u001b[1m409/409\u001b[0m \u001b[32m━━━━━━━━━━━━━━━━━━━━\u001b[0m\u001b[37m\u001b[0m \u001b[1m159s\u001b[0m 388ms/step - accuracy: 0.9245 - loss: 0.1708 - val_accuracy: 0.9555 - val_loss: 0.1486\n",
      "Epoch 11/20\n",
      "\u001b[1m409/409\u001b[0m \u001b[32m━━━━━━━━━━━━━━━━━━━━\u001b[0m\u001b[37m\u001b[0m \u001b[1m167s\u001b[0m 409ms/step - accuracy: 0.9318 - loss: 0.1556 - val_accuracy: 0.9224 - val_loss: 0.1991\n",
      "Epoch 12/20\n",
      "\u001b[1m409/409\u001b[0m \u001b[32m━━━━━━━━━━━━━━━━━━━━\u001b[0m\u001b[37m\u001b[0m \u001b[1m166s\u001b[0m 405ms/step - accuracy: 0.9390 - loss: 0.1419 - val_accuracy: 0.9438 - val_loss: 0.1613\n",
      "Epoch 13/20\n",
      "\u001b[1m409/409\u001b[0m \u001b[32m━━━━━━━━━━━━━━━━━━━━\u001b[0m\u001b[37m\u001b[0m \u001b[1m161s\u001b[0m 393ms/step - accuracy: 0.9448 - loss: 0.1300 - val_accuracy: 0.9571 - val_loss: 0.1325\n",
      "Epoch 14/20\n",
      "\u001b[1m409/409\u001b[0m \u001b[32m━━━━━━━━━━━━━━━━━━━━\u001b[0m\u001b[37m\u001b[0m \u001b[1m158s\u001b[0m 387ms/step - accuracy: 0.9486 - loss: 0.1203 - val_accuracy: 0.9586 - val_loss: 0.1278\n",
      "Epoch 15/20\n",
      "\u001b[1m409/409\u001b[0m \u001b[32m━━━━━━━━━━━━━━━━━━━━\u001b[0m\u001b[37m\u001b[0m \u001b[1m159s\u001b[0m 389ms/step - accuracy: 0.9533 - loss: 0.1110 - val_accuracy: 0.9643 - val_loss: 0.1116\n",
      "Epoch 16/20\n",
      "\u001b[1m409/409\u001b[0m \u001b[32m━━━━━━━━━━━━━━━━━━━━\u001b[0m\u001b[37m\u001b[0m \u001b[1m158s\u001b[0m 387ms/step - accuracy: 0.9570 - loss: 0.1025 - val_accuracy: 0.9683 - val_loss: 0.0994\n",
      "Epoch 17/20\n",
      "\u001b[1m409/409\u001b[0m \u001b[32m━━━━━━━━━━━━━━━━━━━━\u001b[0m\u001b[37m\u001b[0m \u001b[1m164s\u001b[0m 400ms/step - accuracy: 0.9593 - loss: 0.0973 - val_accuracy: 0.9673 - val_loss: 0.1084\n",
      "Epoch 18/20\n",
      "\u001b[1m409/409\u001b[0m \u001b[32m━━━━━━━━━━━━━━━━━━━━\u001b[0m\u001b[37m\u001b[0m \u001b[1m161s\u001b[0m 393ms/step - accuracy: 0.9632 - loss: 0.0898 - val_accuracy: 0.9622 - val_loss: 0.1068\n",
      "Epoch 19/20\n",
      "\u001b[1m409/409\u001b[0m \u001b[32m━━━━━━━━━━━━━━━━━━━━\u001b[0m\u001b[37m\u001b[0m \u001b[1m160s\u001b[0m 391ms/step - accuracy: 0.9653 - loss: 0.0845 - val_accuracy: 0.9682 - val_loss: 0.0950\n",
      "Epoch 20/20\n",
      "\u001b[1m409/409\u001b[0m \u001b[32m━━━━━━━━━━━━━━━━━━━━\u001b[0m\u001b[37m\u001b[0m \u001b[1m157s\u001b[0m 384ms/step - accuracy: 0.9675 - loss: 0.0791 - val_accuracy: 0.9769 - val_loss: 0.0715\n"
     ]
    }
   ],
   "source": [
    "history2 = lstm_model.fit(sequences, yresampled_dl,\n",
    "         epochs = 20, batch_size = 1000,\n",
    "         validation_split = 0.2)"
   ]
  }
 ],
 "metadata": {
  "kaggle": {
   "accelerator": "none",
   "dataSources": [
    {
     "databundleVersionId": 323734,
     "sourceId": 6277,
     "sourceType": "competition"
    }
   ],
   "dockerImageVersionId": 31040,
   "isGpuEnabled": false,
   "isInternetEnabled": true,
   "language": "python",
   "sourceType": "notebook"
  },
  "kernelspec": {
   "display_name": "Python 3",
   "language": "python",
   "name": "python3"
  },
  "language_info": {
   "codemirror_mode": {
    "name": "ipython",
    "version": 3
   },
   "file_extension": ".py",
   "mimetype": "text/x-python",
   "name": "python",
   "nbconvert_exporter": "python",
   "pygments_lexer": "ipython3",
   "version": "3.11.11"
  },
  "papermill": {
   "default_parameters": {},
   "duration": 6300.088353,
   "end_time": "2025-07-03T10:41:13.975518",
   "environment_variables": {},
   "exception": null,
   "input_path": "__notebook__.ipynb",
   "output_path": "__notebook__.ipynb",
   "parameters": {},
   "start_time": "2025-07-03T08:56:13.887165",
   "version": "2.6.0"
  }
 },
 "nbformat": 4,
 "nbformat_minor": 5
}
